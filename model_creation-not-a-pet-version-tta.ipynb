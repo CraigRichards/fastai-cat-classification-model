{
 "cells": [
  {
   "cell_type": "code",
   "execution_count": 1,
   "metadata": {},
   "outputs": [],
   "source": [
    "from fastai.vision.all import *\n",
    "import warnings\n",
    "from PIL import Image\n",
    "\n",
    "path = Path('inputs')/'processed'\n",
    "warnings.filterwarnings(\"ignore\")"
   ]
  },
  {
   "cell_type": "code",
   "execution_count": 2,
   "metadata": {},
   "outputs": [
    {
     "name": "stdout",
     "output_type": "stream",
     "text": [
      "Total images: 12643\n"
     ]
    }
   ],
   "source": [
    "ims = get_image_files(path)\n",
    "total_images = len(ims)\n",
    "print(f\"Total images: {total_images}\")"
   ]
  },
  {
   "cell_type": "code",
   "execution_count": 3,
   "metadata": {},
   "outputs": [
    {
     "name": "stdout",
     "output_type": "stream",
     "text": [
      "NVIDIA GeForce RTX 4070 Ti\n"
     ]
    },
    {
     "data": {
      "text/plain": [
       "66"
      ]
     },
     "execution_count": 3,
     "metadata": {},
     "output_type": "execute_result"
    }
   ],
   "source": [
    "import torch; print(torch.cuda.get_device_name(0))\n",
    "\n",
    "# Flush CUDA memory\n",
    "torch.cuda.empty_cache()\n",
    "\n",
    "import gc\n",
    "gc.collect()"
   ]
  },
  {
   "cell_type": "code",
   "execution_count": 4,
   "metadata": {},
   "outputs": [],
   "source": [
    "import os\n",
    "\n",
    "def _my_grandparent_idxs(items, name):\n",
    "    def _inner(items, name): \n",
    "        return mask2idxs(name in str(Path(o)) for o in items)\n",
    "    return [i for n in L(name) for i in _inner(items,n)]\n",
    "\n",
    "def MyGrandparentSplitter(train_name='train', valid_name='valid'):\n",
    "    \"Split `items` from the grand parent folder names (`train_name` and `valid_name`).\"\n",
    "    def _inner(o):\n",
    "        return _my_grandparent_idxs(o, train_name),_my_grandparent_idxs(o, valid_name)\n",
    "    return _inner\n",
    "    \n"
   ]
  },
  {
   "cell_type": "code",
   "execution_count": 5,
   "metadata": {},
   "outputs": [],
   "source": [
    "fnames = [\n",
    "    path/'train/cat/a/9932.png', path/'valid/cat/a/7189.png',\n",
    "    path/'train/cat/b/9932.png', path/'valid/cat/b/7189.png',\n",
    "    path/'train/not-a-pet/9932.png', path/'valid/not-a-pet/7189.png',\n",
    "]\n",
    "splitter = MyGrandparentSplitter()"
   ]
  },
  {
   "cell_type": "code",
   "execution_count": 6,
   "metadata": {},
   "outputs": [],
   "source": [
    "def _test_splitter(f, items=None):\n",
    "    \"A basic set of condition a splitter must pass\"\n",
    "    items = ifnone(items, range_of(30))\n",
    "    trn,val = f(items)\n",
    "    assert 0<len(trn)<len(items)\n",
    "    assert all(o not in val for o in trn)\n",
    "    test_eq(len(trn), len(items)-len(val))\n",
    "    # test random seed consistency\n",
    "    test_eq(f(items)[0], trn)\n",
    "    return trn, val"
   ]
  },
  {
   "cell_type": "code",
   "execution_count": 7,
   "metadata": {},
   "outputs": [],
   "source": [
    "_test_splitter(splitter, items=fnames)\n",
    "test_eq(splitter(fnames),[[0,2,4],[1,3,5]])"
   ]
  },
  {
   "cell_type": "code",
   "execution_count": 8,
   "metadata": {},
   "outputs": [],
   "source": [
    "def parent_label_list(o):\n",
    "    \"\"\"\n",
    "    Returns the parent label of the image as a list\n",
    "    This is required for a Miltilabel classification problem\n",
    "\n",
    "    Args:\n",
    "        o (_type_): _description_\n",
    "\n",
    "    Returns:\n",
    "        _type_: _description_\n",
    "    \"\"\"\n",
    "    label = parent_label(o)\n",
    "    grand_parent_label = o.parent.parent.name\n",
    "    if label == 'not-a-pet':\n",
    "        return [label]\n",
    "    \n",
    "    return [grand_parent_label[:-1], label]\n",
    "\n",
    "dblock = DataBlock(\n",
    "    blocks=(ImageBlock, MultiCategoryBlock),\n",
    "    get_items=get_image_files,\n",
    "    splitter=MyGrandparentSplitter(train_name='train', valid_name='valid'),\n",
    "    get_y=parent_label_list,\n",
    "    # not required as i am pre-processing images\n",
    "    item_tfms=Resize(460), \n",
    "    batch_tfms=aug_transforms(size=224, min_scale=0.75),\n",
    ")\n",
    "\n",
    "# dblock.summary(path)\n"
   ]
  },
  {
   "cell_type": "code",
   "execution_count": 11,
   "metadata": {},
   "outputs": [
    {
     "name": "stdout",
     "output_type": "stream",
     "text": [
      "['Abyssinian', 'American Bobtail', 'American Curl', 'American Shorthair', 'American Wirehair', 'Balinese', 'Bengal', 'Birman', 'Bombay', 'British Shorthair', 'Burmese', 'Chartreux', 'Cheetoh', 'Cornish Rex', 'Devon Rex', 'Egyptian Mau', 'Exotic Shorthair', 'Havana Brown', 'Japanese Bobtail', 'Khao Manee', 'LaPerm', 'Lykoi', 'Maine Coon', 'Manx', 'Munchkin', 'Norwegian Forest Cat', 'Ocicat', 'Oriental Shorthair', 'Persian', 'Peterbald', 'Ragdoll', 'Russian Blue', 'Savannah', 'Scottish Fold', 'Selkirk Rex', 'Siamese', 'Siberian', 'Singapura', 'Snowshoe', 'Somali', 'Sphynx', 'Tonkinese', 'Toyger', 'Turkish Angora', 'Turkish Van', 'cat', 'not-a-pet']\n"
     ]
    }
   ],
   "source": [
    "\n",
    "dls = dblock.dataloaders(path, bs=32)\n",
    "print(dls.vocab)\n"
   ]
  },
  {
   "cell_type": "code",
   "execution_count": 12,
   "metadata": {},
   "outputs": [],
   "source": [
    "# dls.summary(path)\n",
    "# dls.show_batch(max_n=9)\n"
   ]
  },
  {
   "cell_type": "code",
   "execution_count": 31,
   "metadata": {},
   "outputs": [
    {
     "data": {
      "text/html": [],
      "text/plain": [
       "<IPython.core.display.HTML object>"
      ]
     },
     "metadata": {},
     "output_type": "display_data"
    },
    {
     "name": "stdout",
     "output_type": "stream",
     "text": [
      "Minimum/10: 3.63e-02, steepest point: 6.92e-04\n",
      "Slide: 1.91e-02, Valley: 3.98e-04\n"
     ]
    },
    {
     "data": {
      "image/png": "[encoded data removed]",
      "text/plain": [
       "<Figure size 640x480 with 1 Axes>"
      ]
     },
     "metadata": {},
     "output_type": "display_data"
    }
   ],
   "source": [
    "import torch.nn as nn\n",
    "from torch.nn import BCEWithLogitsLoss\n",
    "from fastai.vision.all import *\n",
    "import timm\n",
    "from fastai.metrics import F1Score\n",
    "\n",
    "model = xresnet50(n_out=dls.c)\n",
    "\n",
    "def custom_accuracy(y_pred, y_true, thresh=0.2, sigmoid=True):\n",
    "    if sigmoid: y_pred = y_pred.sigmoid()\n",
    "    return ((y_pred > thresh) == y_true.bool()).float().mean()\n",
    "\n",
    "# Create the learner\n",
    "learn = Learner(\n",
    "    dls,\n",
    "    model,\n",
    "    loss_func=BCEWithLogitsLoss(),\n",
    "    metrics=[accuracy_multi, custom_accuracy],\n",
    ").to_bf16()\n",
    "\n",
    "\n",
    "lr_slide, lr_valley, lr_min, lr_steep = learn \\\n",
    "    .lr_find(suggest_funcs=(slide, valley, minimum, steep))\n",
    "    \n",
    "print(f\"Minimum/10: {lr_min:.2e}, steepest point: {lr_steep:.2e}\")\n",
    "print(f\"Slide: {lr_slide:.2e}, Valley: {lr_valley:.2e}\")"
   ]
  },
  {
   "cell_type": "code",
   "execution_count": 32,
   "metadata": {},
   "outputs": [
    {
     "data": {
      "text/html": [
       "<table border=\"1\" class=\"dataframe\">\n",
       "  <thead>\n",
       "    <tr style=\"text-align: left;\">\n",
       "      <th>epoch</th>\n",
       "      <th>train_loss</th>\n",
       "      <th>valid_loss</th>\n",
       "      <th>accuracy_multi</th>\n",
       "      <th>custom_accuracy</th>\n",
       "      <th>time</th>\n",
       "    </tr>\n",
       "  </thead>\n",
       "  <tbody>\n",
       "    <tr>\n",
       "      <td>0</td>\n",
       "      <td>0.116835</td>\n",
       "      <td>0.106294</td>\n",
       "      <td>0.977532</td>\n",
       "      <td>0.973810</td>\n",
       "      <td>00:44</td>\n",
       "    </tr>\n",
       "  </tbody>\n",
       "</table>"
      ],
      "text/plain": [
       "<IPython.core.display.HTML object>"
      ]
     },
     "metadata": {},
     "output_type": "display_data"
    },
    {
     "data": {
      "text/html": [
       "<table border=\"1\" class=\"dataframe\">\n",
       "  <thead>\n",
       "    <tr style=\"text-align: left;\">\n",
       "      <th>epoch</th>\n",
       "      <th>train_loss</th>\n",
       "      <th>valid_loss</th>\n",
       "      <th>accuracy_multi</th>\n",
       "      <th>custom_accuracy</th>\n",
       "      <th>time</th>\n",
       "    </tr>\n",
       "  </thead>\n",
       "  <tbody>\n",
       "    <tr>\n",
       "      <td>0</td>\n",
       "      <td>0.092021</td>\n",
       "      <td>0.096208</td>\n",
       "      <td>0.977268</td>\n",
       "      <td>0.973231</td>\n",
       "      <td>00:43</td>\n",
       "    </tr>\n",
       "    <tr>\n",
       "      <td>1</td>\n",
       "      <td>0.088785</td>\n",
       "      <td>0.093507</td>\n",
       "      <td>0.976903</td>\n",
       "      <td>0.971940</td>\n",
       "      <td>00:45</td>\n",
       "    </tr>\n",
       "    <tr>\n",
       "      <td>2</td>\n",
       "      <td>0.083230</td>\n",
       "      <td>0.078485</td>\n",
       "      <td>0.980295</td>\n",
       "      <td>0.978161</td>\n",
       "      <td>00:43</td>\n",
       "    </tr>\n",
       "    <tr>\n",
       "      <td>3</td>\n",
       "      <td>0.077190</td>\n",
       "      <td>0.075008</td>\n",
       "      <td>0.980262</td>\n",
       "      <td>0.975216</td>\n",
       "      <td>00:43</td>\n",
       "    </tr>\n",
       "    <tr>\n",
       "      <td>4</td>\n",
       "      <td>0.072574</td>\n",
       "      <td>0.071389</td>\n",
       "      <td>0.980527</td>\n",
       "      <td>0.977334</td>\n",
       "      <td>00:45</td>\n",
       "    </tr>\n",
       "  </tbody>\n",
       "</table>"
      ],
      "text/plain": [
       "<IPython.core.display.HTML object>"
      ]
     },
     "metadata": {},
     "output_type": "display_data"
    }
   ],
   "source": [
    "# get a baseline\n",
    "learn.fine_tune(5, base_lr=lr_slide)\n",
    "learn.export('xresnet50.pkl')"
   ]
  },
  {
   "cell_type": "code",
   "execution_count": 15,
   "metadata": {},
   "outputs": [
    {
     "name": "stdout",
     "output_type": "stream",
     "text": [
      "torch.Size([32, 3, 224, 224])\n"
     ]
    },
    {
     "data": {
      "text/plain": [
       "(TensorImage([0.5241, 0.4944, 0.4289], device='cuda:0'),\n",
       " TensorImage([0.2860, 0.2826, 0.3044], device='cuda:0'))"
      ]
     },
     "execution_count": 15,
     "metadata": {},
     "output_type": "execute_result"
    }
   ],
   "source": [
    "x, y = dls.one_batch()\n",
    "print(x.shape)\n",
    "x.mean(dim=[0,2,3]), x.std(dim=[0,2,3])"
   ]
  },
  {
   "cell_type": "code",
   "execution_count": 41,
   "metadata": {},
   "outputs": [],
   "source": [
    "def get_dls(bs, size):\n",
    "    dblock = DataBlock(\n",
    "        blocks=(ImageBlock, MultiCategoryBlock),\n",
    "        get_items=get_image_files,\n",
    "        splitter=MyGrandparentSplitter(train_name='train', valid_name='valid'),\n",
    "        get_y=parent_label_list,\n",
    "        item_tfms=Resize(460),\n",
    "        batch_tfms=[\n",
    "            *aug_transforms(\n",
    "                size=size,\n",
    "                min_scale=0.75,\n",
    "                flip_vert=False,\n",
    "                max_rotate=10.0,\n",
    "                max_zoom=1.1,\n",
    "                max_lighting=0.2,\n",
    "                max_warp=0.2,\n",
    "                p_affine=0.75,\n",
    "                p_lighting=0.75),\n",
    "            Normalize.from_stats(*imagenet_stats)\n",
    "        ])\n",
    "\n",
    "    return dblock.dataloaders(path, bs=bs)"
   ]
  },
  {
   "cell_type": "code",
   "execution_count": 44,
   "metadata": {},
   "outputs": [
    {
     "data": {
      "text/html": [
       "<table border=\"1\" class=\"dataframe\">\n",
       "  <thead>\n",
       "    <tr style=\"text-align: left;\">\n",
       "      <th>epoch</th>\n",
       "      <th>train_loss</th>\n",
       "      <th>valid_loss</th>\n",
       "      <th>accuracy_multi</th>\n",
       "      <th>custom_accuracy</th>\n",
       "      <th>time</th>\n",
       "    </tr>\n",
       "  </thead>\n",
       "  <tbody>\n",
       "    <tr>\n",
       "      <td>0</td>\n",
       "      <td>0.065975</td>\n",
       "      <td>0.065357</td>\n",
       "      <td>0.981271</td>\n",
       "      <td>0.975232</td>\n",
       "      <td>00:43</td>\n",
       "    </tr>\n",
       "    <tr>\n",
       "      <td>1</td>\n",
       "      <td>0.064508</td>\n",
       "      <td>0.064322</td>\n",
       "      <td>0.981519</td>\n",
       "      <td>0.976539</td>\n",
       "      <td>00:43</td>\n",
       "    </tr>\n",
       "    <tr>\n",
       "      <td>2</td>\n",
       "      <td>0.061588</td>\n",
       "      <td>0.061235</td>\n",
       "      <td>0.981734</td>\n",
       "      <td>0.975861</td>\n",
       "      <td>00:43</td>\n",
       "    </tr>\n",
       "    <tr>\n",
       "      <td>3</td>\n",
       "      <td>0.059604</td>\n",
       "      <td>0.060078</td>\n",
       "      <td>0.981900</td>\n",
       "      <td>0.976010</td>\n",
       "      <td>00:43</td>\n",
       "    </tr>\n",
       "  </tbody>\n",
       "</table>"
      ],
      "text/plain": [
       "<IPython.core.display.HTML object>"
      ]
     },
     "metadata": {},
     "output_type": "display_data"
    }
   ],
   "source": [
    "learn = Learner(\n",
    "    dls,\n",
    "    model,\n",
    "    loss_func=BCEWithLogitsLoss(),\n",
    "    metrics=[accuracy_multi, custom_accuracy],\n",
    ").to_bf16()\n",
    "\n",
    "dls = get_dls(64, 224)\n",
    "learn.fit_one_cycle(4, 3e-3)"
   ]
  },
  {
   "cell_type": "code",
   "execution_count": 43,
   "metadata": {},
   "outputs": [
    {
     "data": {
      "text/plain": [
       "(TensorImage([0.0354, 0.0969, 0.1681], device='cuda:0'),\n",
       " TensorImage([1.2530, 1.2451, 1.2740], device='cuda:0'))"
      ]
     },
     "execution_count": 43,
     "metadata": {},
     "output_type": "execute_result"
    }
   ],
   "source": [
    "x,y = dls.one_batch()\n",
    "x.mean(dim=[0,2,3]),x.std(dim=[0,2,3])\n"
   ]
  },
  {
   "cell_type": "code",
   "execution_count": 45,
   "metadata": {},
   "outputs": [
    {
     "data": {
      "text/html": [
       "<table border=\"1\" class=\"dataframe\">\n",
       "  <thead>\n",
       "    <tr style=\"text-align: left;\">\n",
       "      <th>epoch</th>\n",
       "      <th>train_loss</th>\n",
       "      <th>valid_loss</th>\n",
       "      <th>accuracy_multi</th>\n",
       "      <th>custom_accuracy</th>\n",
       "      <th>time</th>\n",
       "    </tr>\n",
       "  </thead>\n",
       "  <tbody>\n",
       "    <tr>\n",
       "      <td>0</td>\n",
       "      <td>0.067304</td>\n",
       "      <td>0.068523</td>\n",
       "      <td>0.980593</td>\n",
       "      <td>0.973214</td>\n",
       "      <td>00:44</td>\n",
       "    </tr>\n",
       "    <tr>\n",
       "      <td>1</td>\n",
       "      <td>0.064425</td>\n",
       "      <td>0.064358</td>\n",
       "      <td>0.981189</td>\n",
       "      <td>0.975481</td>\n",
       "      <td>00:43</td>\n",
       "    </tr>\n",
       "    <tr>\n",
       "      <td>2</td>\n",
       "      <td>0.061315</td>\n",
       "      <td>0.062351</td>\n",
       "      <td>0.981470</td>\n",
       "      <td>0.975497</td>\n",
       "      <td>00:46</td>\n",
       "    </tr>\n",
       "    <tr>\n",
       "      <td>3</td>\n",
       "      <td>0.059694</td>\n",
       "      <td>0.061811</td>\n",
       "      <td>0.981619</td>\n",
       "      <td>0.975778</td>\n",
       "      <td>00:43</td>\n",
       "    </tr>\n",
       "  </tbody>\n",
       "</table>"
      ],
      "text/plain": [
       "<IPython.core.display.HTML object>"
      ]
     },
     "metadata": {},
     "output_type": "display_data"
    }
   ],
   "source": [
    "# progressive resizing\n",
    "\n",
    "dls = get_dls(128, 128)\n",
    "learn.dls = dls\n",
    "learn.fit_one_cycle(4, 3e-3)"
   ]
  },
  {
   "cell_type": "code",
   "execution_count": 46,
   "metadata": {},
   "outputs": [
    {
     "data": {
      "text/html": [
       "<table border=\"1\" class=\"dataframe\">\n",
       "  <thead>\n",
       "    <tr style=\"text-align: left;\">\n",
       "      <th>epoch</th>\n",
       "      <th>train_loss</th>\n",
       "      <th>valid_loss</th>\n",
       "      <th>accuracy_multi</th>\n",
       "      <th>custom_accuracy</th>\n",
       "      <th>time</th>\n",
       "    </tr>\n",
       "  </thead>\n",
       "  <tbody>\n",
       "    <tr>\n",
       "      <td>0</td>\n",
       "      <td>0.059253</td>\n",
       "      <td>0.058502</td>\n",
       "      <td>0.982181</td>\n",
       "      <td>0.976606</td>\n",
       "      <td>00:42</td>\n",
       "    </tr>\n",
       "  </tbody>\n",
       "</table>"
      ],
      "text/plain": [
       "<IPython.core.display.HTML object>"
      ]
     },
     "metadata": {},
     "output_type": "display_data"
    },
    {
     "data": {
      "text/html": [
       "<table border=\"1\" class=\"dataframe\">\n",
       "  <thead>\n",
       "    <tr style=\"text-align: left;\">\n",
       "      <th>epoch</th>\n",
       "      <th>train_loss</th>\n",
       "      <th>valid_loss</th>\n",
       "      <th>accuracy_multi</th>\n",
       "      <th>custom_accuracy</th>\n",
       "      <th>time</th>\n",
       "    </tr>\n",
       "  </thead>\n",
       "  <tbody>\n",
       "    <tr>\n",
       "      <td>0</td>\n",
       "      <td>0.057139</td>\n",
       "      <td>0.057090</td>\n",
       "      <td>0.982231</td>\n",
       "      <td>0.977201</td>\n",
       "      <td>00:43</td>\n",
       "    </tr>\n",
       "    <tr>\n",
       "      <td>1</td>\n",
       "      <td>0.056985</td>\n",
       "      <td>0.056667</td>\n",
       "      <td>0.982165</td>\n",
       "      <td>0.976937</td>\n",
       "      <td>00:43</td>\n",
       "    </tr>\n",
       "    <tr>\n",
       "      <td>2</td>\n",
       "      <td>0.056079</td>\n",
       "      <td>0.055706</td>\n",
       "      <td>0.982479</td>\n",
       "      <td>0.976804</td>\n",
       "      <td>02:02</td>\n",
       "    </tr>\n",
       "    <tr>\n",
       "      <td>3</td>\n",
       "      <td>0.054713</td>\n",
       "      <td>0.055134</td>\n",
       "      <td>0.982529</td>\n",
       "      <td>0.977317</td>\n",
       "      <td>-1:59:27</td>\n",
       "    </tr>\n",
       "    <tr>\n",
       "      <td>4</td>\n",
       "      <td>0.054766</td>\n",
       "      <td>0.055008</td>\n",
       "      <td>0.982562</td>\n",
       "      <td>0.977003</td>\n",
       "      <td>00:45</td>\n",
       "    </tr>\n",
       "  </tbody>\n",
       "</table>"
      ],
      "text/plain": [
       "<IPython.core.display.HTML object>"
      ]
     },
     "metadata": {},
     "output_type": "display_data"
    }
   ],
   "source": [
    "# now replace the dls in the learner\n",
    "\n",
    "learn.dls = get_dls(64, 224)\n",
    "learn.fine_tune(5, 1e-3)"
   ]
  },
  {
   "cell_type": "code",
   "execution_count": 47,
   "metadata": {},
   "outputs": [],
   "source": [
    "learn.export('xresnet50.pkl')"
   ]
  },
  {
   "cell_type": "code",
   "execution_count": 48,
   "metadata": {},
   "outputs": [
    {
     "data": {
      "text/html": [
       "\n",
       "    <div>\n",
       "        <style>\n",
       "            /* Turns off some styling */\n",
       "            progress {\n",
       "                /* gets rid of default border in Firefox and Opera. */\n",
       "                border: none;\n",
       "                /* Needs to be in here for Safari polyfill so background images work as expected. */\n",
       "                background-size: auto;\n",
       "            }\n",
       "            .progress-bar-interrupted, .progress-bar-interrupted::-webkit-progress-bar {\n",
       "                background: #F44336;\n",
       "            }\n",
       "        </style>\n",
       "      <progress value='0' class='' max='5' style='width:300px; height:20px; vertical-align: middle;'></progress>\n",
       "      \n",
       "    </div>\n",
       "    \n"
      ],
      "text/plain": [
       "<IPython.core.display.HTML object>"
      ]
     },
     "metadata": {},
     "output_type": "display_data"
    },
    {
     "data": {
      "text/html": [],
      "text/plain": [
       "<IPython.core.display.HTML object>"
      ]
     },
     "metadata": {},
     "output_type": "display_data"
    },
    {
     "ename": "AssertionError",
     "evalue": "==:\n1286\n60442",
     "output_type": "error",
     "traceback": [
      "\u001b[0;31m---------------------------------------------------------------------------\u001b[0m",
      "\u001b[0;31mAssertionError\u001b[0m                            Traceback (most recent call last)",
      "Cell \u001b[0;32mIn[48], line 2\u001b[0m\n\u001b[1;32m      1\u001b[0m preds,targs \u001b[38;5;241m=\u001b[39m learn\u001b[38;5;241m.\u001b[39mtta()\n\u001b[0;32m----> 2\u001b[0m accuracy(preds, targs)\u001b[38;5;241m.\u001b[39mitem()\n",
      "File \u001b[0;32m~/miniconda3/envs/work/lib/python3.11/site-packages/fastai/metrics.py:108\u001b[0m, in \u001b[0;36maccuracy\u001b[0;34m(inp, targ, axis)\u001b[0m\n\u001b[1;32m    106\u001b[0m \u001b[38;5;28;01mdef\u001b[39;00m \u001b[38;5;21maccuracy\u001b[39m(inp, targ, axis\u001b[38;5;241m=\u001b[39m\u001b[38;5;241m-\u001b[39m\u001b[38;5;241m1\u001b[39m):\n\u001b[1;32m    107\u001b[0m     \u001b[38;5;124m\"\u001b[39m\u001b[38;5;124mCompute accuracy with `targ` when `pred` is bs * n_classes\u001b[39m\u001b[38;5;124m\"\u001b[39m\n\u001b[0;32m--> 108\u001b[0m     pred,targ \u001b[38;5;241m=\u001b[39m flatten_check(inp\u001b[38;5;241m.\u001b[39margmax(dim\u001b[38;5;241m=\u001b[39maxis), targ)\n\u001b[1;32m    109\u001b[0m     \u001b[38;5;28;01mreturn\u001b[39;00m (pred \u001b[38;5;241m==\u001b[39m targ)\u001b[38;5;241m.\u001b[39mfloat()\u001b[38;5;241m.\u001b[39mmean()\n",
      "File \u001b[0;32m~/miniconda3/envs/work/lib/python3.11/site-packages/fastai/torch_core.py:789\u001b[0m, in \u001b[0;36mflatten_check\u001b[0;34m(inp, targ)\u001b[0m\n\u001b[1;32m    787\u001b[0m \u001b[38;5;124m\"\u001b[39m\u001b[38;5;124mCheck that `inp` and `targ` have the same number of elements and flatten them.\u001b[39m\u001b[38;5;124m\"\u001b[39m\n\u001b[1;32m    788\u001b[0m inp,targ \u001b[38;5;241m=\u001b[39m TensorBase(inp\u001b[38;5;241m.\u001b[39mcontiguous())\u001b[38;5;241m.\u001b[39mview(\u001b[38;5;241m-\u001b[39m\u001b[38;5;241m1\u001b[39m),TensorBase(targ\u001b[38;5;241m.\u001b[39mcontiguous())\u001b[38;5;241m.\u001b[39mview(\u001b[38;5;241m-\u001b[39m\u001b[38;5;241m1\u001b[39m)\n\u001b[0;32m--> 789\u001b[0m test_eq(\u001b[38;5;28mlen\u001b[39m(inp), \u001b[38;5;28mlen\u001b[39m(targ))\n\u001b[1;32m    790\u001b[0m \u001b[38;5;28;01mreturn\u001b[39;00m inp,targ\n",
      "File \u001b[0;32m~/miniconda3/envs/work/lib/python3.11/site-packages/fastcore/test.py:37\u001b[0m, in \u001b[0;36mtest_eq\u001b[0;34m(a, b)\u001b[0m\n\u001b[1;32m     35\u001b[0m \u001b[38;5;28;01mdef\u001b[39;00m \u001b[38;5;21mtest_eq\u001b[39m(a,b):\n\u001b[1;32m     36\u001b[0m     \u001b[38;5;124m\"\u001b[39m\u001b[38;5;124m`test` that `a==b`\u001b[39m\u001b[38;5;124m\"\u001b[39m\n\u001b[0;32m---> 37\u001b[0m     test(a,b,equals, cname\u001b[38;5;241m=\u001b[39m\u001b[38;5;124m'\u001b[39m\u001b[38;5;124m==\u001b[39m\u001b[38;5;124m'\u001b[39m)\n",
      "File \u001b[0;32m~/miniconda3/envs/work/lib/python3.11/site-packages/fastcore/test.py:27\u001b[0m, in \u001b[0;36mtest\u001b[0;34m(a, b, cmp, cname)\u001b[0m\n\u001b[1;32m     25\u001b[0m \u001b[38;5;124m\"\u001b[39m\u001b[38;5;124m`assert` that `cmp(a,b)`; display inputs and `cname or cmp.__name__` if it fails\u001b[39m\u001b[38;5;124m\"\u001b[39m\n\u001b[1;32m     26\u001b[0m \u001b[38;5;28;01mif\u001b[39;00m cname \u001b[38;5;129;01mis\u001b[39;00m \u001b[38;5;28;01mNone\u001b[39;00m: cname\u001b[38;5;241m=\u001b[39mcmp\u001b[38;5;241m.\u001b[39m\u001b[38;5;18m__name__\u001b[39m\n\u001b[0;32m---> 27\u001b[0m \u001b[38;5;28;01massert\u001b[39;00m cmp(a,b),\u001b[38;5;124mf\u001b[39m\u001b[38;5;124m\"\u001b[39m\u001b[38;5;132;01m{\u001b[39;00mcname\u001b[38;5;132;01m}\u001b[39;00m\u001b[38;5;124m:\u001b[39m\u001b[38;5;130;01m\\n\u001b[39;00m\u001b[38;5;132;01m{\u001b[39;00ma\u001b[38;5;132;01m}\u001b[39;00m\u001b[38;5;130;01m\\n\u001b[39;00m\u001b[38;5;132;01m{\u001b[39;00mb\u001b[38;5;132;01m}\u001b[39;00m\u001b[38;5;124m\"\u001b[39m\n",
      "\u001b[0;31mAssertionError\u001b[0m: ==:\n1286\n60442"
     ]
    }
   ],
   "source": [
    "preds,targs = learn.tta()\n",
    "accuracy(preds, targs).item()"
   ]
  }
 ],
 "metadata": {
  "kernelspec": {
   "display_name": "work",
   "language": "python",
   "name": "python3"
  },
  "language_info": {
   "codemirror_mode": {
    "name": "ipython",
    "version": 3
   },
   "file_extension": ".py",
   "mimetype": "text/x-python",
   "name": "python",
   "nbconvert_exporter": "python",
   "pygments_lexer": "ipython3",
   "version": "3.11.5"
  }
 },
 "nbformat": 4,
 "nbformat_minor": 2
}
