{
 "cells": [
  {
   "cell_type": "code",
   "execution_count": 1,
   "metadata": {},
   "outputs": [],
   "source": [
    "from fastai.vision.all import *"
   ]
  },
  {
   "cell_type": "code",
   "execution_count": 3,
   "metadata": {},
   "outputs": [
    {
     "name": "stdout",
     "output_type": "stream",
     "text": [
      "Using device: cuda\n"
     ]
    }
   ],
   "source": [
    "import torch\n",
    "\n",
    "# Move the model to the GPU if available\n",
    "device = torch.device('cuda' if torch.cuda.is_available() else 'cpu')\n",
    "print(f\"Using device: {device}\")"
   ]
  },
  {
   "cell_type": "code",
   "execution_count": 4,
   "metadata": {},
   "outputs": [],
   "source": [
    "def parent_label_list(o):\n",
    "    \"\"\"\n",
    "    Returns the parent label of the image as a list\n",
    "    This is required for a Miltilabel classification problem\n",
    "\n",
    "    Args:\n",
    "        o (_type_): _description_\n",
    "\n",
    "    Returns:\n",
    "        _type_: _description_\n",
    "    \"\"\"\n",
    "    label = parent_label(o)\n",
    "    grand_parent_label = o.parent.parent.name\n",
    "    if label == 'not-a-pet':\n",
    "        return [label]\n",
    "    \n",
    "    return [grand_parent_label[:-1], label]\n"
   ]
  },
  {
   "cell_type": "code",
   "execution_count": 5,
   "metadata": {},
   "outputs": [],
   "source": [
    "# Define the CustomHead class with shape inspection\n",
    "class CustomHead(nn.Module):\n",
    "    def __init__(self, nf, n_out):\n",
    "        super().__init__()\n",
    "        self.pool = nn.AdaptiveAvgPool2d(1)\n",
    "        self.flatten = nn.Flatten()\n",
    "        self.linear = nn.Linear(nf, n_out)\n",
    "\n",
    "    def forward(self, x):\n",
    "        if x.dim() == 2:  # No spatial dimensions (1D features per image)\n",
    "            # print(\"Input is 2D, skipping pooling.\")\n",
    "            x = self.flatten(x)\n",
    "        elif x.dim() == 4:  # Regular case: [batch_size, channels, height, width]\n",
    "            x = self.pool(x)\n",
    "            # print(f\"Shape after pooling: {x.shape}\")\n",
    "            x = self.flatten(x)\n",
    "        else:\n",
    "            raise ValueError(f\"Unexpected input dimension: {x.dim()} dimensions.\")\n",
    "        # print(f\"Shape after flattening: {x.shape}\")\n",
    "        x = self.linear(x)\n",
    "        return x\n"
   ]
  },
  {
   "cell_type": "code",
   "execution_count": 7,
   "metadata": {},
   "outputs": [],
   "source": [
    "def custom_accuracy(y_pred, y_true, thresh=0.2, sigmoid=True):\n",
    "    if sigmoid: y_pred = y_pred.sigmoid()\n",
    "    return ((y_pred > thresh) == y_true.bool()).float().mean()\n"
   ]
  },
  {
   "cell_type": "code",
   "execution_count": 20,
   "metadata": {},
   "outputs": [],
   "source": [
    "learn = load_learner('xresnet50.pkl')\n",
    "learn.dls.device = device"
   ]
  },
  {
   "cell_type": "code",
   "execution_count": 21,
   "metadata": {},
   "outputs": [
    {
     "name": "stdout",
     "output_type": "stream",
     "text": [
      "Model loaded: <fastai.learner.Learner object at 0x7fe5847058d0>\n",
      "DataLoaders loaded: <fastai.data.core.DataLoaders object at 0x7fe594137150>\n",
      "Vocabulary: ['Abyssinian', 'American Bobtail', 'American Curl', 'American Shorthair', 'American Wirehair', 'Balinese', 'Bengal', 'Birman', 'Bombay', 'British Shorthair', 'Burmese', 'Chartreux', 'Cheetoh', 'Cornish Rex', 'Devon Rex', 'Egyptian Mau', 'Exotic Shorthair', 'Havana Brown', 'Japanese Bobtail', 'Khao Manee', 'LaPerm', 'Lykoi', 'Maine Coon', 'Manx', 'Munchkin', 'Norwegian Forest Cat', 'Ocicat', 'Oriental Shorthair', 'Persian', 'Peterbald', 'Ragdoll', 'Russian Blue', 'Savannah', 'Scottish Fold', 'Selkirk Rex', 'Siamese', 'Siberian', 'Singapura', 'Snowshoe', 'Somali', 'Sphynx', 'Tonkinese', 'Toyger', 'Turkish Angora', 'Turkish Van', 'cat', 'not-a-pet']\n"
     ]
    }
   ],
   "source": [
    "from fastai.vision.all import PILImage\n",
    "from PIL import Image\n",
    "import numpy as np\n",
    "\n",
    "# Debug: Check if learn object is loaded\n",
    "try:\n",
    "    print(f\"Model loaded: {learn}\")\n",
    "except NameError:\n",
    "    print(\"Error: 'learn' object is not defined or not loaded.\")\n",
    "\n",
    "# Debug: Check if dls object is loaded\n",
    "try:\n",
    "    print(f\"DataLoaders loaded: {learn.dls}\")\n",
    "    print(f\"Vocabulary: {learn.dls.vocab}\")\n",
    "except NameError:\n",
    "    print(\"Error: 'dls' object is not defined or not loaded.\")\n",
    "except AttributeError:\n",
    "    print(\"Error: 'dls' object does not have the expected attributes.\")\n",
    "\n"
   ]
  },
  {
   "cell_type": "code",
   "execution_count": 32,
   "metadata": {},
   "outputs": [],
   "source": [
    "def perform_prediction(img_path, show_image=True, threshold=0.2):\n",
    "    try:\n",
    "        img = PILImage.create(img_path)\n",
    "        if show_image: img.show()\n",
    "        \n",
    "        # Convert the PILImage to a PyTorch tensor and move it to the same device as the learner\n",
    "        img_tensor = learn.dls.test_dl([img]).one_batch()[0].to(device)\n",
    "    except Exception as e:\n",
    "        print(f\"Error loading image: {e}\")\n",
    "\n",
    "    # Predict on a new image\n",
    "    try:\n",
    "        learn.model = learn.model.to(device)  # Move model to GPU if available\n",
    "        pred, pred_idx, probs = learn.predict(img)\n",
    "        probs = sigmoid(probs)\n",
    "        # preds, _ = learn.tta(dl=learn.dls.test_dl([img]))\n",
    "        # probs = sigmoid(preds.mean(dim=0))\n",
    "    except Exception as e:\n",
    "        print(f\"Error in prediction: {e}\")\n",
    "\n",
    "    # Get indices of labels that exceed the threshold\n",
    "    predicted_indices = (probs > threshold).nonzero(as_tuple=True)[0]\n",
    "\n",
    "    # Retrieve the corresponding probabilities\n",
    "    predicted_probs = probs[predicted_indices]\n",
    "\n",
    "    # Sort the indices based on the probabilities in descending order\n",
    "    sorted_indices = predicted_indices[predicted_probs.argsort(descending=True)]\n",
    "\n",
    "    # Retrieve the sorted labels and probabilities\n",
    "    sorted_labels = [learn.dls.vocab[i] for i in sorted_indices]\n",
    "    sorted_probs = probs[sorted_indices]\n",
    "\n",
    "    # Format the output as a list of tuples\n",
    "    result = [(label, prob.item()) for \\\n",
    "        label, prob in zip(sorted_labels, sorted_probs)]\n",
    "\n",
    "    return (result, probs, learn.dls.vocab)"
   ]
  },
  {
   "cell_type": "code",
   "execution_count": 33,
   "metadata": {},
   "outputs": [],
   "source": [
    "def perform_validation_on_a_batch(path=Path(\"inputs/processed/test\"), n=5, threshold=0.2):\n",
    "    \"\"\"Get n random images from each folder in the path and perform a prediction on each image.\n",
    "\n",
    "    Args:\n",
    "        path (_type_, optional): _description_. Defaults to Path(\"training\").\n",
    "        n (int, optional): _description_. Defaults to 5.\n",
    "    \"\"\"\n",
    "    if path:\n",
    "        validation_path = path\n",
    "\n",
    "    # Get all folders recursively\n",
    "    all_folders = [f for f in validation_path.rglob('*') if f.is_dir()]\n",
    "\n",
    "    # Filter out parent directories that have subdirectories\n",
    "    folders = [f for f in all_folders if not any(sub.is_dir() for sub in f.iterdir())]\n",
    "\n",
    "    results = []\n",
    "    #iterate through each folder\n",
    "    for folder in folders:\n",
    "        all_files = folder.ls()\n",
    "        \n",
    "        # Filter the list to include only .jpg files\n",
    "        jpg_files = L([file for file in all_files if file.suffix.lower() == '.jpg']).sorted()\n",
    "\n",
    "        # Shuffle the filtered list and select the first n images\n",
    "        if n is None:\n",
    "            images = jpg_files\n",
    "        else:\n",
    "            images = jpg_files.shuffle()[:n]\n",
    "\n",
    "        for img_path in images:\n",
    "            result, probs, vocab = perform_prediction(\n",
    "                img_path,\n",
    "                show_image=False,\n",
    "                threshold=threshold)\n",
    "            #check that folder.name is in the result using lower case\n",
    "            \n",
    "            labels_to_check = []\n",
    "            labels_to_check.append(folder.name.lower())\n",
    "            if not folder.parent.name in ['test', 'train', 'valid']:\n",
    "                grand_parent_folder_name = folder.parent.name.lower()[:-1]   # Strip plural 's' if needed\n",
    "                labels_to_check.append(grand_parent_folder_name)\n",
    "            \n",
    "            # Ensure all these labels are in the result\n",
    "            result_labels = [item[0].lower() for item in result]  # Convert result labels to lower case\n",
    "\n",
    "            # Ensure all labels in `labels_to_check` are present in the prediction results\n",
    "            is_correct = all(label in result_labels for label in labels_to_check)\n",
    "\n",
    "            folder_idx_in_vocab = vocab.o2i[folder.name]\n",
    "            folder_probability = probs[folder_idx_in_vocab].item()\n",
    "\n",
    "            # place the results in a dataset to view later\n",
    "            results.append({\n",
    "                'Folder': folder.name,\n",
    "                'Image': img_path.name,\n",
    "                'Result': result,\n",
    "                'Correct': is_correct,\n",
    "                'FolderName Probability': folder_probability            \n",
    "            })        \n",
    "            \n",
    "            # print(f\"Image: {img_path.name}, Result: {result}, Correct: {is_correct}\")\n",
    "    \n",
    "    return results    \n"
   ]
  },
  {
   "cell_type": "code",
   "execution_count": 34,
   "metadata": {},
   "outputs": [],
   "source": [
    "def display_results(results):\n",
    "    # calculate the accuracy\n",
    "    correct_results = [result['Correct'] for result in results]\n",
    "    accuracy = sum(correct_results) / len(correct_results)\n",
    "    print(\"Validation complete - Accuracy: \", accuracy)\n",
    "\n",
    "    # loop through tuples in results[result] and format the second item to be 2 decimal places\n",
    "    for result in results:\n",
    "        for i, item in enumerate(result['Result']):\n",
    "            result['Result'][i] = (item[0], round(item[1], 2))    \n",
    "            \n",
    "    # Convert the list of results to a pandas DataFrame\n",
    "    results_df = pd.DataFrame(results)\n",
    "\n",
    "    # ensure the whole DataFrame is displayed\n",
    "    pd.set_option('display.max_rows', None)\n",
    "    pd.set_option('display.max_columns', None)\n",
    "    pd.set_option('display.width', None)\n",
    "    pd.set_option('display.max_colwidth', None)\n",
    "    \n",
    "    # Display the DataFrame\n",
    "    display(results_df)        "
   ]
  },
  {
   "cell_type": "code",
   "execution_count": 35,
   "metadata": {},
   "outputs": [
    {
     "data": {
      "text/html": [],
      "text/plain": [
       "<IPython.core.display.HTML object>"
      ]
     },
     "metadata": {},
     "output_type": "display_data"
    },
    {
     "data": {
      "text/html": [],
      "text/plain": [
       "<IPython.core.display.HTML object>"
      ]
     },
     "metadata": {},
     "output_type": "display_data"
    },
    {
     "data": {
      "text/html": [],
      "text/plain": [
       "<IPython.core.display.HTML object>"
      ]
     },
     "metadata": {},
     "output_type": "display_data"
    },
    {
     "data": {
      "text/html": [],
      "text/plain": [
       "<IPython.core.display.HTML object>"
      ]
     },
     "metadata": {},
     "output_type": "display_data"
    },
    {
     "data": {
      "text/html": [],
      "text/plain": [
       "<IPython.core.display.HTML object>"
      ]
     },
     "metadata": {},
     "output_type": "display_data"
    },
    {
     "data": {
      "text/html": [],
      "text/plain": [
       "<IPython.core.display.HTML object>"
      ]
     },
     "metadata": {},
     "output_type": "display_data"
    },
    {
     "data": {
      "text/html": [],
      "text/plain": [
       "<IPython.core.display.HTML object>"
      ]
     },
     "metadata": {},
     "output_type": "display_data"
    },
    {
     "data": {
      "text/html": [],
      "text/plain": [
       "<IPython.core.display.HTML object>"
      ]
     },
     "metadata": {},
     "output_type": "display_data"
    },
    {
     "data": {
      "text/html": [],
      "text/plain": [
       "<IPython.core.display.HTML object>"
      ]
     },
     "metadata": {},
     "output_type": "display_data"
    },
    {
     "data": {
      "text/html": [],
      "text/plain": [
       "<IPython.core.display.HTML object>"
      ]
     },
     "metadata": {},
     "output_type": "display_data"
    },
    {
     "data": {
      "text/html": [],
      "text/plain": [
       "<IPython.core.display.HTML object>"
      ]
     },
     "metadata": {},
     "output_type": "display_data"
    },
    {
     "data": {
      "text/html": [],
      "text/plain": [
       "<IPython.core.display.HTML object>"
      ]
     },
     "metadata": {},
     "output_type": "display_data"
    },
    {
     "data": {
      "text/html": [],
      "text/plain": [
       "<IPython.core.display.HTML object>"
      ]
     },
     "metadata": {},
     "output_type": "display_data"
    },
    {
     "data": {
      "text/html": [],
      "text/plain": [
       "<IPython.core.display.HTML object>"
      ]
     },
     "metadata": {},
     "output_type": "display_data"
    },
    {
     "data": {
      "text/html": [],
      "text/plain": [
       "<IPython.core.display.HTML object>"
      ]
     },
     "metadata": {},
     "output_type": "display_data"
    },
    {
     "data": {
      "text/html": [],
      "text/plain": [
       "<IPython.core.display.HTML object>"
      ]
     },
     "metadata": {},
     "output_type": "display_data"
    },
    {
     "data": {
      "text/html": [],
      "text/plain": [
       "<IPython.core.display.HTML object>"
      ]
     },
     "metadata": {},
     "output_type": "display_data"
    },
    {
     "data": {
      "text/html": [],
      "text/plain": [
       "<IPython.core.display.HTML object>"
      ]
     },
     "metadata": {},
     "output_type": "display_data"
    },
    {
     "data": {
      "text/html": [],
      "text/plain": [
       "<IPython.core.display.HTML object>"
      ]
     },
     "metadata": {},
     "output_type": "display_data"
    },
    {
     "data": {
      "text/html": [],
      "text/plain": [
       "<IPython.core.display.HTML object>"
      ]
     },
     "metadata": {},
     "output_type": "display_data"
    },
    {
     "data": {
      "text/html": [],
      "text/plain": [
       "<IPython.core.display.HTML object>"
      ]
     },
     "metadata": {},
     "output_type": "display_data"
    },
    {
     "data": {
      "text/html": [],
      "text/plain": [
       "<IPython.core.display.HTML object>"
      ]
     },
     "metadata": {},
     "output_type": "display_data"
    },
    {
     "data": {
      "text/html": [],
      "text/plain": [
       "<IPython.core.display.HTML object>"
      ]
     },
     "metadata": {},
     "output_type": "display_data"
    },
    {
     "data": {
      "text/html": [],
      "text/plain": [
       "<IPython.core.display.HTML object>"
      ]
     },
     "metadata": {},
     "output_type": "display_data"
    },
    {
     "data": {
      "text/html": [],
      "text/plain": [
       "<IPython.core.display.HTML object>"
      ]
     },
     "metadata": {},
     "output_type": "display_data"
    },
    {
     "data": {
      "text/html": [],
      "text/plain": [
       "<IPython.core.display.HTML object>"
      ]
     },
     "metadata": {},
     "output_type": "display_data"
    },
    {
     "data": {
      "text/html": [],
      "text/plain": [
       "<IPython.core.display.HTML object>"
      ]
     },
     "metadata": {},
     "output_type": "display_data"
    },
    {
     "data": {
      "text/html": [],
      "text/plain": [
       "<IPython.core.display.HTML object>"
      ]
     },
     "metadata": {},
     "output_type": "display_data"
    },
    {
     "data": {
      "text/html": [],
      "text/plain": [
       "<IPython.core.display.HTML object>"
      ]
     },
     "metadata": {},
     "output_type": "display_data"
    },
    {
     "data": {
      "text/html": [],
      "text/plain": [
       "<IPython.core.display.HTML object>"
      ]
     },
     "metadata": {},
     "output_type": "display_data"
    },
    {
     "data": {
      "text/html": [],
      "text/plain": [
       "<IPython.core.display.HTML object>"
      ]
     },
     "metadata": {},
     "output_type": "display_data"
    },
    {
     "data": {
      "text/html": [],
      "text/plain": [
       "<IPython.core.display.HTML object>"
      ]
     },
     "metadata": {},
     "output_type": "display_data"
    },
    {
     "data": {
      "text/html": [],
      "text/plain": [
       "<IPython.core.display.HTML object>"
      ]
     },
     "metadata": {},
     "output_type": "display_data"
    },
    {
     "data": {
      "text/html": [],
      "text/plain": [
       "<IPython.core.display.HTML object>"
      ]
     },
     "metadata": {},
     "output_type": "display_data"
    },
    {
     "data": {
      "text/html": [],
      "text/plain": [
       "<IPython.core.display.HTML object>"
      ]
     },
     "metadata": {},
     "output_type": "display_data"
    },
    {
     "data": {
      "text/html": [],
      "text/plain": [
       "<IPython.core.display.HTML object>"
      ]
     },
     "metadata": {},
     "output_type": "display_data"
    },
    {
     "data": {
      "text/html": [],
      "text/plain": [
       "<IPython.core.display.HTML object>"
      ]
     },
     "metadata": {},
     "output_type": "display_data"
    },
    {
     "data": {
      "text/html": [],
      "text/plain": [
       "<IPython.core.display.HTML object>"
      ]
     },
     "metadata": {},
     "output_type": "display_data"
    },
    {
     "data": {
      "text/html": [],
      "text/plain": [
       "<IPython.core.display.HTML object>"
      ]
     },
     "metadata": {},
     "output_type": "display_data"
    },
    {
     "data": {
      "text/html": [],
      "text/plain": [
       "<IPython.core.display.HTML object>"
      ]
     },
     "metadata": {},
     "output_type": "display_data"
    },
    {
     "data": {
      "text/html": [],
      "text/plain": [
       "<IPython.core.display.HTML object>"
      ]
     },
     "metadata": {},
     "output_type": "display_data"
    },
    {
     "data": {
      "text/html": [],
      "text/plain": [
       "<IPython.core.display.HTML object>"
      ]
     },
     "metadata": {},
     "output_type": "display_data"
    },
    {
     "data": {
      "text/html": [],
      "text/plain": [
       "<IPython.core.display.HTML object>"
      ]
     },
     "metadata": {},
     "output_type": "display_data"
    },
    {
     "data": {
      "text/html": [],
      "text/plain": [
       "<IPython.core.display.HTML object>"
      ]
     },
     "metadata": {},
     "output_type": "display_data"
    },
    {
     "data": {
      "text/html": [],
      "text/plain": [
       "<IPython.core.display.HTML object>"
      ]
     },
     "metadata": {},
     "output_type": "display_data"
    },
    {
     "data": {
      "text/html": [],
      "text/plain": [
       "<IPython.core.display.HTML object>"
      ]
     },
     "metadata": {},
     "output_type": "display_data"
    },
    {
     "name": "stdout",
     "output_type": "stream",
     "text": [
      "Validation complete - Accuracy:  0.3695652173913043\n"
     ]
    },
    {
     "data": {
      "text/html": [
       "<div>\n",
       "<style scoped>\n",
       "    .dataframe tbody tr th:only-of-type {\n",
       "        vertical-align: middle;\n",
       "    }\n",
       "\n",
       "    .dataframe tbody tr th {\n",
       "        vertical-align: top;\n",
       "    }\n",
       "\n",
       "    .dataframe thead th {\n",
       "        text-align: right;\n",
       "    }\n",
       "</style>\n",
       "<table border=\"1\" class=\"dataframe\">\n",
       "  <thead>\n",
       "    <tr style=\"text-align: right;\">\n",
       "      <th></th>\n",
       "      <th>Folder</th>\n",
       "      <th>Image</th>\n",
       "      <th>Result</th>\n",
       "      <th>Correct</th>\n",
       "      <th>FolderName Probability</th>\n",
       "    </tr>\n",
       "  </thead>\n",
       "  <tbody>\n",
       "    <tr>\n",
       "      <th>0</th>\n",
       "      <td>not-a-pet</td>\n",
       "      <td>b8093bb9-87e3-4387-9f66-c005893b1bca.jpg</td>\n",
       "      <td>[(not-a-pet, 0.99)]</td>\n",
       "      <td>True</td>\n",
       "      <td>0.987633</td>\n",
       "    </tr>\n",
       "    <tr>\n",
       "      <th>1</th>\n",
       "      <td>Abyssinian</td>\n",
       "      <td>322585ee-bfa3-41cc-86e7-2a5a7b58f991.jpg</td>\n",
       "      <td>[(cat, 1.0), (Abyssinian, 0.74)]</td>\n",
       "      <td>True</td>\n",
       "      <td>0.740942</td>\n",
       "    </tr>\n",
       "    <tr>\n",
       "      <th>2</th>\n",
       "      <td>American Bobtail</td>\n",
       "      <td>2148e5dc-ce06-4b49-9114-371a866fefe9.jpg</td>\n",
       "      <td>[(cat, 1.0), (American Bobtail, 0.23)]</td>\n",
       "      <td>True</td>\n",
       "      <td>0.227949</td>\n",
       "    </tr>\n",
       "    <tr>\n",
       "      <th>3</th>\n",
       "      <td>American Curl</td>\n",
       "      <td>21dea7da-f3e1-43a2-8f67-2528d68cbb7d.jpg</td>\n",
       "      <td>[(cat, 1.0)]</td>\n",
       "      <td>False</td>\n",
       "      <td>0.044618</td>\n",
       "    </tr>\n",
       "    <tr>\n",
       "      <th>4</th>\n",
       "      <td>American Shorthair</td>\n",
       "      <td>3bfe4bd6-157a-4524-b9d0-733d16fb2bb5.jpg</td>\n",
       "      <td>[(cat, 1.0)]</td>\n",
       "      <td>False</td>\n",
       "      <td>0.178776</td>\n",
       "    </tr>\n",
       "    <tr>\n",
       "      <th>5</th>\n",
       "      <td>American Wirehair</td>\n",
       "      <td>2c4496ac-717c-48c7-9d03-ee2ca72f0f8f.jpg</td>\n",
       "      <td>[(cat, 1.0)]</td>\n",
       "      <td>False</td>\n",
       "      <td>0.075488</td>\n",
       "    </tr>\n",
       "    <tr>\n",
       "      <th>6</th>\n",
       "      <td>Balinese</td>\n",
       "      <td>0a2b0bba-c21e-46ca-8093-220470443d02.jpg</td>\n",
       "      <td>[(cat, 0.99), (Khao Manee, 0.31)]</td>\n",
       "      <td>False</td>\n",
       "      <td>0.015962</td>\n",
       "    </tr>\n",
       "    <tr>\n",
       "      <th>7</th>\n",
       "      <td>Bengal</td>\n",
       "      <td>302637d5-3faf-44de-b9ca-ecbc8ea8886e.jpg</td>\n",
       "      <td>[(cat, 1.0)]</td>\n",
       "      <td>False</td>\n",
       "      <td>0.022745</td>\n",
       "    </tr>\n",
       "    <tr>\n",
       "      <th>8</th>\n",
       "      <td>Birman</td>\n",
       "      <td>1d014bbb-3bbe-4c52-914d-450887e8e22e.jpg</td>\n",
       "      <td>[(cat, 1.0), (Ragdoll, 0.44)]</td>\n",
       "      <td>False</td>\n",
       "      <td>0.148105</td>\n",
       "    </tr>\n",
       "    <tr>\n",
       "      <th>9</th>\n",
       "      <td>Bombay</td>\n",
       "      <td>0c0a24b0-24af-4d6d-b2fd-b91b42704cba.jpg</td>\n",
       "      <td>[(cat, 1.0), (Bombay, 0.94)]</td>\n",
       "      <td>True</td>\n",
       "      <td>0.937873</td>\n",
       "    </tr>\n",
       "    <tr>\n",
       "      <th>10</th>\n",
       "      <td>British Shorthair</td>\n",
       "      <td>980d526e-bc24-4d2f-a3cb-388fadd36f34.jpg</td>\n",
       "      <td>[(cat, 0.99), (Russian Blue, 0.24)]</td>\n",
       "      <td>False</td>\n",
       "      <td>0.053975</td>\n",
       "    </tr>\n",
       "    <tr>\n",
       "      <th>11</th>\n",
       "      <td>Burmese</td>\n",
       "      <td>67e5c90d-6806-4e3d-a68b-8362ff019bf2.jpg</td>\n",
       "      <td>[(cat, 1.0), (Havana Brown, 0.25), (Burmese, 0.22)]</td>\n",
       "      <td>True</td>\n",
       "      <td>0.222256</td>\n",
       "    </tr>\n",
       "    <tr>\n",
       "      <th>12</th>\n",
       "      <td>Chartreux</td>\n",
       "      <td>07afb6de-57de-48ac-a26a-a14e6337e0d6.jpg</td>\n",
       "      <td>[(cat, 0.99)]</td>\n",
       "      <td>False</td>\n",
       "      <td>0.024396</td>\n",
       "    </tr>\n",
       "    <tr>\n",
       "      <th>13</th>\n",
       "      <td>Cheetoh</td>\n",
       "      <td>502ef6f2-43d0-4e21-a8c2-4fc49f0d499c.jpg</td>\n",
       "      <td>[(cat, 1.0), (Bengal, 0.49)]</td>\n",
       "      <td>False</td>\n",
       "      <td>0.108752</td>\n",
       "    </tr>\n",
       "    <tr>\n",
       "      <th>14</th>\n",
       "      <td>Cornish Rex</td>\n",
       "      <td>deb4bbb8-15c3-4080-a223-7c7dc45d8afd.jpg</td>\n",
       "      <td>[(cat, 1.0)]</td>\n",
       "      <td>False</td>\n",
       "      <td>0.085123</td>\n",
       "    </tr>\n",
       "    <tr>\n",
       "      <th>15</th>\n",
       "      <td>Devon Rex</td>\n",
       "      <td>15bce088-edb3-4569-a0af-eed05a16e5e1.jpg</td>\n",
       "      <td>[(cat, 1.0)]</td>\n",
       "      <td>False</td>\n",
       "      <td>0.144607</td>\n",
       "    </tr>\n",
       "    <tr>\n",
       "      <th>16</th>\n",
       "      <td>Egyptian Mau</td>\n",
       "      <td>4c49db7e-723a-4cbe-8dbb-d159af994b13.jpg</td>\n",
       "      <td>[(cat, 1.0), (Egyptian Mau, 0.83), (Ocicat, 0.31)]</td>\n",
       "      <td>True</td>\n",
       "      <td>0.830903</td>\n",
       "    </tr>\n",
       "    <tr>\n",
       "      <th>17</th>\n",
       "      <td>Exotic Shorthair</td>\n",
       "      <td>080c2962-5e89-43a7-bee9-55e8decb8385.jpg</td>\n",
       "      <td>[(cat, 1.0), (Ragdoll, 0.2)]</td>\n",
       "      <td>False</td>\n",
       "      <td>0.025641</td>\n",
       "    </tr>\n",
       "    <tr>\n",
       "      <th>18</th>\n",
       "      <td>Havana Brown</td>\n",
       "      <td>5eb8fc06-fbeb-4770-8dee-d2d505048988.jpg</td>\n",
       "      <td>[(cat, 1.0), (Havana Brown, 0.73)]</td>\n",
       "      <td>True</td>\n",
       "      <td>0.732871</td>\n",
       "    </tr>\n",
       "    <tr>\n",
       "      <th>19</th>\n",
       "      <td>Japanese Bobtail</td>\n",
       "      <td>12a30c8f-48fc-48a1-8fad-62f68e721f25.jpg</td>\n",
       "      <td>[(cat, 0.98)]</td>\n",
       "      <td>False</td>\n",
       "      <td>0.021613</td>\n",
       "    </tr>\n",
       "    <tr>\n",
       "      <th>20</th>\n",
       "      <td>Khao Manee</td>\n",
       "      <td>08f048df-dd9c-4eab-adc6-2c0ca67e66b1.jpg</td>\n",
       "      <td>[(cat, 0.95), (Khao Manee, 0.37)]</td>\n",
       "      <td>True</td>\n",
       "      <td>0.372033</td>\n",
       "    </tr>\n",
       "    <tr>\n",
       "      <th>21</th>\n",
       "      <td>LaPerm</td>\n",
       "      <td>1b8fd75b-684d-4522-a89b-792ac58b0097.jpg</td>\n",
       "      <td>[(cat, 1.0), (Snowshoe, 0.25)]</td>\n",
       "      <td>False</td>\n",
       "      <td>0.003039</td>\n",
       "    </tr>\n",
       "    <tr>\n",
       "      <th>22</th>\n",
       "      <td>Lykoi</td>\n",
       "      <td>75e8d27c-de50-4535-a5fe-d5af1e018dff.jpg</td>\n",
       "      <td>[(cat, 1.0)]</td>\n",
       "      <td>False</td>\n",
       "      <td>0.130045</td>\n",
       "    </tr>\n",
       "    <tr>\n",
       "      <th>23</th>\n",
       "      <td>Maine Coon</td>\n",
       "      <td>3eaea2d3-4cb3-4d99-9ba3-86ca53d33257.jpg</td>\n",
       "      <td>[(cat, 1.0), (Maine Coon, 0.46)]</td>\n",
       "      <td>True</td>\n",
       "      <td>0.463216</td>\n",
       "    </tr>\n",
       "    <tr>\n",
       "      <th>24</th>\n",
       "      <td>Manx</td>\n",
       "      <td>33386412-98f1-4913-91ad-02db43daef06.jpg</td>\n",
       "      <td>[(cat, 0.99)]</td>\n",
       "      <td>False</td>\n",
       "      <td>0.008605</td>\n",
       "    </tr>\n",
       "    <tr>\n",
       "      <th>25</th>\n",
       "      <td>Munchkin</td>\n",
       "      <td>32eaae3e-e76c-4086-961e-7935a520e172.jpg</td>\n",
       "      <td>[(cat, 1.0)]</td>\n",
       "      <td>False</td>\n",
       "      <td>0.052289</td>\n",
       "    </tr>\n",
       "    <tr>\n",
       "      <th>26</th>\n",
       "      <td>Norwegian Forest Cat</td>\n",
       "      <td>6fafb070-b8ed-40ee-a39b-eb2280acdbd0.jpg</td>\n",
       "      <td>[(cat, 1.0)]</td>\n",
       "      <td>False</td>\n",
       "      <td>0.055141</td>\n",
       "    </tr>\n",
       "    <tr>\n",
       "      <th>27</th>\n",
       "      <td>Ocicat</td>\n",
       "      <td>34c0c605-f1d0-4473-9292-3a453b8b7a3c.jpg</td>\n",
       "      <td>[(cat, 1.0), (Ocicat, 0.54)]</td>\n",
       "      <td>True</td>\n",
       "      <td>0.541019</td>\n",
       "    </tr>\n",
       "    <tr>\n",
       "      <th>28</th>\n",
       "      <td>Oriental Shorthair</td>\n",
       "      <td>3cca9c77-e288-4b2d-9e4f-5adbe9c7e080.jpg</td>\n",
       "      <td>[(cat, 0.97)]</td>\n",
       "      <td>False</td>\n",
       "      <td>0.139675</td>\n",
       "    </tr>\n",
       "    <tr>\n",
       "      <th>29</th>\n",
       "      <td>Persian</td>\n",
       "      <td>c6a8c17b-9eb8-4b4e-b345-4c9f5dc229b6.jpg</td>\n",
       "      <td>[(cat, 0.99)]</td>\n",
       "      <td>False</td>\n",
       "      <td>0.079709</td>\n",
       "    </tr>\n",
       "    <tr>\n",
       "      <th>30</th>\n",
       "      <td>Peterbald</td>\n",
       "      <td>7416bae5-9cb4-4bd5-9e54-96a8e782c812.jpg</td>\n",
       "      <td>[(cat, 0.99), (Peterbald, 0.38), (Lykoi, 0.33), (Sphynx, 0.23)]</td>\n",
       "      <td>True</td>\n",
       "      <td>0.375214</td>\n",
       "    </tr>\n",
       "    <tr>\n",
       "      <th>31</th>\n",
       "      <td>Ragdoll</td>\n",
       "      <td>9aab8a9a-0b67-490e-a998-b26b3269de62.jpg</td>\n",
       "      <td>[(cat, 1.0), (Birman, 0.26)]</td>\n",
       "      <td>False</td>\n",
       "      <td>0.170702</td>\n",
       "    </tr>\n",
       "    <tr>\n",
       "      <th>32</th>\n",
       "      <td>Russian Blue</td>\n",
       "      <td>6541a0e6-dc7a-4530-b632-cc808fb5f569.jpg</td>\n",
       "      <td>[(cat, 1.0), (Russian Blue, 0.39), (Chartreux, 0.28)]</td>\n",
       "      <td>True</td>\n",
       "      <td>0.389282</td>\n",
       "    </tr>\n",
       "    <tr>\n",
       "      <th>33</th>\n",
       "      <td>Savannah</td>\n",
       "      <td>535b1fe9-5a56-4770-98fc-46814df68597.jpg</td>\n",
       "      <td>[(cat, 1.0), (Savannah, 0.76), (Cheetoh, 0.23)]</td>\n",
       "      <td>True</td>\n",
       "      <td>0.759541</td>\n",
       "    </tr>\n",
       "    <tr>\n",
       "      <th>34</th>\n",
       "      <td>Scottish Fold</td>\n",
       "      <td>46972a81-ff6a-4b3d-bbe4-e132a9a52ce1.jpg</td>\n",
       "      <td>[(cat, 1.0), (American Curl, 0.2)]</td>\n",
       "      <td>False</td>\n",
       "      <td>0.105270</td>\n",
       "    </tr>\n",
       "    <tr>\n",
       "      <th>35</th>\n",
       "      <td>Selkirk Rex</td>\n",
       "      <td>5b4cfb5d-0ece-4484-a61b-9e659fc8f41c.jpg</td>\n",
       "      <td>[(cat, 0.99), (Norwegian Forest Cat, 0.25)]</td>\n",
       "      <td>False</td>\n",
       "      <td>0.120034</td>\n",
       "    </tr>\n",
       "    <tr>\n",
       "      <th>36</th>\n",
       "      <td>Siamese</td>\n",
       "      <td>a9b3907b-6025-460f-9c33-147ab6931d25.jpg</td>\n",
       "      <td>[(cat, 0.99)]</td>\n",
       "      <td>False</td>\n",
       "      <td>0.067843</td>\n",
       "    </tr>\n",
       "    <tr>\n",
       "      <th>37</th>\n",
       "      <td>Siberian</td>\n",
       "      <td>3107f3b6-17f7-4e2a-b709-9e0dc828d973.jpg</td>\n",
       "      <td>[(cat, 1.0), (Somali, 0.24), (Siberian, 0.23), (American Curl, 0.22)]</td>\n",
       "      <td>True</td>\n",
       "      <td>0.231508</td>\n",
       "    </tr>\n",
       "    <tr>\n",
       "      <th>38</th>\n",
       "      <td>Singapura</td>\n",
       "      <td>97e43dc8-f68f-4ea6-9909-b934e07c4494.jpg</td>\n",
       "      <td>[(cat, 0.99), (Singapura, 0.62)]</td>\n",
       "      <td>True</td>\n",
       "      <td>0.622714</td>\n",
       "    </tr>\n",
       "    <tr>\n",
       "      <th>39</th>\n",
       "      <td>Snowshoe</td>\n",
       "      <td>bb7ea562-91f4-4004-9f62-92492f3af944.jpg</td>\n",
       "      <td>[(cat, 1.0)]</td>\n",
       "      <td>False</td>\n",
       "      <td>0.020107</td>\n",
       "    </tr>\n",
       "    <tr>\n",
       "      <th>40</th>\n",
       "      <td>Somali</td>\n",
       "      <td>04e56ec9-c672-45f8-abd4-44628ba4787b.jpg</td>\n",
       "      <td>[(cat, 1.0), (Singapura, 0.29)]</td>\n",
       "      <td>False</td>\n",
       "      <td>0.009259</td>\n",
       "    </tr>\n",
       "    <tr>\n",
       "      <th>41</th>\n",
       "      <td>Sphynx</td>\n",
       "      <td>50a2b070-c5cb-4cd5-b7bf-6315988b1e5c.jpg</td>\n",
       "      <td>[(cat, 0.96)]</td>\n",
       "      <td>False</td>\n",
       "      <td>0.107069</td>\n",
       "    </tr>\n",
       "    <tr>\n",
       "      <th>42</th>\n",
       "      <td>Tonkinese</td>\n",
       "      <td>1661e25f-ab64-4186-bdc7-a22dfee2e6a4.jpg</td>\n",
       "      <td>[(cat, 1.0), (Singapura, 0.23)]</td>\n",
       "      <td>False</td>\n",
       "      <td>0.023249</td>\n",
       "    </tr>\n",
       "    <tr>\n",
       "      <th>43</th>\n",
       "      <td>Toyger</td>\n",
       "      <td>97407368-ff0c-4667-a61c-d59b33754cb5.jpg</td>\n",
       "      <td>[(cat, 1.0), (Bengal, 0.25), (Toyger, 0.22)]</td>\n",
       "      <td>True</td>\n",
       "      <td>0.220879</td>\n",
       "    </tr>\n",
       "    <tr>\n",
       "      <th>44</th>\n",
       "      <td>Turkish Angora</td>\n",
       "      <td>2b3e5704-ea0c-4e52-947f-30b5f732410a.jpg</td>\n",
       "      <td>[(cat, 1.0), (Turkish Angora, 0.2)]</td>\n",
       "      <td>True</td>\n",
       "      <td>0.202182</td>\n",
       "    </tr>\n",
       "    <tr>\n",
       "      <th>45</th>\n",
       "      <td>Turkish Van</td>\n",
       "      <td>bde625af-4513-43c4-9640-a7fb9c52c513.jpg</td>\n",
       "      <td>[(cat, 1.0)]</td>\n",
       "      <td>False</td>\n",
       "      <td>0.035432</td>\n",
       "    </tr>\n",
       "  </tbody>\n",
       "</table>\n",
       "</div>"
      ],
      "text/plain": [
       "                  Folder                                     Image  \\\n",
       "0              not-a-pet  b8093bb9-87e3-4387-9f66-c005893b1bca.jpg   \n",
       "1             Abyssinian  322585ee-bfa3-41cc-86e7-2a5a7b58f991.jpg   \n",
       "2       American Bobtail  2148e5dc-ce06-4b49-9114-371a866fefe9.jpg   \n",
       "3          American Curl  21dea7da-f3e1-43a2-8f67-2528d68cbb7d.jpg   \n",
       "4     American Shorthair  3bfe4bd6-157a-4524-b9d0-733d16fb2bb5.jpg   \n",
       "5      American Wirehair  2c4496ac-717c-48c7-9d03-ee2ca72f0f8f.jpg   \n",
       "6               Balinese  0a2b0bba-c21e-46ca-8093-220470443d02.jpg   \n",
       "7                 Bengal  302637d5-3faf-44de-b9ca-ecbc8ea8886e.jpg   \n",
       "8                 Birman  1d014bbb-3bbe-4c52-914d-450887e8e22e.jpg   \n",
       "9                 Bombay  0c0a24b0-24af-4d6d-b2fd-b91b42704cba.jpg   \n",
       "10     British Shorthair  980d526e-bc24-4d2f-a3cb-388fadd36f34.jpg   \n",
       "11               Burmese  67e5c90d-6806-4e3d-a68b-8362ff019bf2.jpg   \n",
       "12             Chartreux  07afb6de-57de-48ac-a26a-a14e6337e0d6.jpg   \n",
       "13               Cheetoh  502ef6f2-43d0-4e21-a8c2-4fc49f0d499c.jpg   \n",
       "14           Cornish Rex  deb4bbb8-15c3-4080-a223-7c7dc45d8afd.jpg   \n",
       "15             Devon Rex  15bce088-edb3-4569-a0af-eed05a16e5e1.jpg   \n",
       "16          Egyptian Mau  4c49db7e-723a-4cbe-8dbb-d159af994b13.jpg   \n",
       "17      Exotic Shorthair  080c2962-5e89-43a7-bee9-55e8decb8385.jpg   \n",
       "18          Havana Brown  5eb8fc06-fbeb-4770-8dee-d2d505048988.jpg   \n",
       "19      Japanese Bobtail  12a30c8f-48fc-48a1-8fad-62f68e721f25.jpg   \n",
       "20            Khao Manee  08f048df-dd9c-4eab-adc6-2c0ca67e66b1.jpg   \n",
       "21                LaPerm  1b8fd75b-684d-4522-a89b-792ac58b0097.jpg   \n",
       "22                 Lykoi  75e8d27c-de50-4535-a5fe-d5af1e018dff.jpg   \n",
       "23            Maine Coon  3eaea2d3-4cb3-4d99-9ba3-86ca53d33257.jpg   \n",
       "24                  Manx  33386412-98f1-4913-91ad-02db43daef06.jpg   \n",
       "25              Munchkin  32eaae3e-e76c-4086-961e-7935a520e172.jpg   \n",
       "26  Norwegian Forest Cat  6fafb070-b8ed-40ee-a39b-eb2280acdbd0.jpg   \n",
       "27                Ocicat  34c0c605-f1d0-4473-9292-3a453b8b7a3c.jpg   \n",
       "28    Oriental Shorthair  3cca9c77-e288-4b2d-9e4f-5adbe9c7e080.jpg   \n",
       "29               Persian  c6a8c17b-9eb8-4b4e-b345-4c9f5dc229b6.jpg   \n",
       "30             Peterbald  7416bae5-9cb4-4bd5-9e54-96a8e782c812.jpg   \n",
       "31               Ragdoll  9aab8a9a-0b67-490e-a998-b26b3269de62.jpg   \n",
       "32          Russian Blue  6541a0e6-dc7a-4530-b632-cc808fb5f569.jpg   \n",
       "33              Savannah  535b1fe9-5a56-4770-98fc-46814df68597.jpg   \n",
       "34         Scottish Fold  46972a81-ff6a-4b3d-bbe4-e132a9a52ce1.jpg   \n",
       "35           Selkirk Rex  5b4cfb5d-0ece-4484-a61b-9e659fc8f41c.jpg   \n",
       "36               Siamese  a9b3907b-6025-460f-9c33-147ab6931d25.jpg   \n",
       "37              Siberian  3107f3b6-17f7-4e2a-b709-9e0dc828d973.jpg   \n",
       "38             Singapura  97e43dc8-f68f-4ea6-9909-b934e07c4494.jpg   \n",
       "39              Snowshoe  bb7ea562-91f4-4004-9f62-92492f3af944.jpg   \n",
       "40                Somali  04e56ec9-c672-45f8-abd4-44628ba4787b.jpg   \n",
       "41                Sphynx  50a2b070-c5cb-4cd5-b7bf-6315988b1e5c.jpg   \n",
       "42             Tonkinese  1661e25f-ab64-4186-bdc7-a22dfee2e6a4.jpg   \n",
       "43                Toyger  97407368-ff0c-4667-a61c-d59b33754cb5.jpg   \n",
       "44        Turkish Angora  2b3e5704-ea0c-4e52-947f-30b5f732410a.jpg   \n",
       "45           Turkish Van  bde625af-4513-43c4-9640-a7fb9c52c513.jpg   \n",
       "\n",
       "                                                                   Result  \\\n",
       "0                                                     [(not-a-pet, 0.99)]   \n",
       "1                                        [(cat, 1.0), (Abyssinian, 0.74)]   \n",
       "2                                  [(cat, 1.0), (American Bobtail, 0.23)]   \n",
       "3                                                            [(cat, 1.0)]   \n",
       "4                                                            [(cat, 1.0)]   \n",
       "5                                                            [(cat, 1.0)]   \n",
       "6                                       [(cat, 0.99), (Khao Manee, 0.31)]   \n",
       "7                                                            [(cat, 1.0)]   \n",
       "8                                           [(cat, 1.0), (Ragdoll, 0.44)]   \n",
       "9                                            [(cat, 1.0), (Bombay, 0.94)]   \n",
       "10                                    [(cat, 0.99), (Russian Blue, 0.24)]   \n",
       "11                    [(cat, 1.0), (Havana Brown, 0.25), (Burmese, 0.22)]   \n",
       "12                                                          [(cat, 0.99)]   \n",
       "13                                           [(cat, 1.0), (Bengal, 0.49)]   \n",
       "14                                                           [(cat, 1.0)]   \n",
       "15                                                           [(cat, 1.0)]   \n",
       "16                     [(cat, 1.0), (Egyptian Mau, 0.83), (Ocicat, 0.31)]   \n",
       "17                                           [(cat, 1.0), (Ragdoll, 0.2)]   \n",
       "18                                     [(cat, 1.0), (Havana Brown, 0.73)]   \n",
       "19                                                          [(cat, 0.98)]   \n",
       "20                                      [(cat, 0.95), (Khao Manee, 0.37)]   \n",
       "21                                         [(cat, 1.0), (Snowshoe, 0.25)]   \n",
       "22                                                           [(cat, 1.0)]   \n",
       "23                                       [(cat, 1.0), (Maine Coon, 0.46)]   \n",
       "24                                                          [(cat, 0.99)]   \n",
       "25                                                           [(cat, 1.0)]   \n",
       "26                                                           [(cat, 1.0)]   \n",
       "27                                           [(cat, 1.0), (Ocicat, 0.54)]   \n",
       "28                                                          [(cat, 0.97)]   \n",
       "29                                                          [(cat, 0.99)]   \n",
       "30        [(cat, 0.99), (Peterbald, 0.38), (Lykoi, 0.33), (Sphynx, 0.23)]   \n",
       "31                                           [(cat, 1.0), (Birman, 0.26)]   \n",
       "32                  [(cat, 1.0), (Russian Blue, 0.39), (Chartreux, 0.28)]   \n",
       "33                        [(cat, 1.0), (Savannah, 0.76), (Cheetoh, 0.23)]   \n",
       "34                                     [(cat, 1.0), (American Curl, 0.2)]   \n",
       "35                            [(cat, 0.99), (Norwegian Forest Cat, 0.25)]   \n",
       "36                                                          [(cat, 0.99)]   \n",
       "37  [(cat, 1.0), (Somali, 0.24), (Siberian, 0.23), (American Curl, 0.22)]   \n",
       "38                                       [(cat, 0.99), (Singapura, 0.62)]   \n",
       "39                                                           [(cat, 1.0)]   \n",
       "40                                        [(cat, 1.0), (Singapura, 0.29)]   \n",
       "41                                                          [(cat, 0.96)]   \n",
       "42                                        [(cat, 1.0), (Singapura, 0.23)]   \n",
       "43                           [(cat, 1.0), (Bengal, 0.25), (Toyger, 0.22)]   \n",
       "44                                    [(cat, 1.0), (Turkish Angora, 0.2)]   \n",
       "45                                                           [(cat, 1.0)]   \n",
       "\n",
       "    Correct  FolderName Probability  \n",
       "0      True                0.987633  \n",
       "1      True                0.740942  \n",
       "2      True                0.227949  \n",
       "3     False                0.044618  \n",
       "4     False                0.178776  \n",
       "5     False                0.075488  \n",
       "6     False                0.015962  \n",
       "7     False                0.022745  \n",
       "8     False                0.148105  \n",
       "9      True                0.937873  \n",
       "10    False                0.053975  \n",
       "11     True                0.222256  \n",
       "12    False                0.024396  \n",
       "13    False                0.108752  \n",
       "14    False                0.085123  \n",
       "15    False                0.144607  \n",
       "16     True                0.830903  \n",
       "17    False                0.025641  \n",
       "18     True                0.732871  \n",
       "19    False                0.021613  \n",
       "20     True                0.372033  \n",
       "21    False                0.003039  \n",
       "22    False                0.130045  \n",
       "23     True                0.463216  \n",
       "24    False                0.008605  \n",
       "25    False                0.052289  \n",
       "26    False                0.055141  \n",
       "27     True                0.541019  \n",
       "28    False                0.139675  \n",
       "29    False                0.079709  \n",
       "30     True                0.375214  \n",
       "31    False                0.170702  \n",
       "32     True                0.389282  \n",
       "33     True                0.759541  \n",
       "34    False                0.105270  \n",
       "35    False                0.120034  \n",
       "36    False                0.067843  \n",
       "37     True                0.231508  \n",
       "38     True                0.622714  \n",
       "39    False                0.020107  \n",
       "40    False                0.009259  \n",
       "41    False                0.107069  \n",
       "42    False                0.023249  \n",
       "43     True                0.220879  \n",
       "44     True                0.202182  \n",
       "45    False                0.035432  "
      ]
     },
     "metadata": {},
     "output_type": "display_data"
    }
   ],
   "source": [
    "display_results( \\\n",
    "    perform_validation_on_a_batch( \\\n",
    "        path=Path(\"inputs/processed/test\"), \n",
    "        threshold=0.2,\n",
    "        n=1))"
   ]
  },
  {
   "cell_type": "code",
   "execution_count": 188,
   "metadata": {},
   "outputs": [
    {
     "data": {
      "text/html": [],
      "text/plain": [
       "<IPython.core.display.HTML object>"
      ]
     },
     "metadata": {},
     "output_type": "display_data"
    },
    {
     "data": {
      "text/html": [],
      "text/plain": [
       "<IPython.core.display.HTML object>"
      ]
     },
     "metadata": {},
     "output_type": "display_data"
    },
    {
     "data": {
      "text/html": [],
      "text/plain": [
       "<IPython.core.display.HTML object>"
      ]
     },
     "metadata": {},
     "output_type": "display_data"
    },
    {
     "data": {
      "text/html": [],
      "text/plain": [
       "<IPython.core.display.HTML object>"
      ]
     },
     "metadata": {},
     "output_type": "display_data"
    },
    {
     "data": {
      "text/html": [],
      "text/plain": [
       "<IPython.core.display.HTML object>"
      ]
     },
     "metadata": {},
     "output_type": "display_data"
    },
    {
     "data": {
      "text/html": [],
      "text/plain": [
       "<IPython.core.display.HTML object>"
      ]
     },
     "metadata": {},
     "output_type": "display_data"
    },
    {
     "data": {
      "text/html": [],
      "text/plain": [
       "<IPython.core.display.HTML object>"
      ]
     },
     "metadata": {},
     "output_type": "display_data"
    },
    {
     "data": {
      "text/html": [],
      "text/plain": [
       "<IPython.core.display.HTML object>"
      ]
     },
     "metadata": {},
     "output_type": "display_data"
    },
    {
     "data": {
      "text/html": [],
      "text/plain": [
       "<IPython.core.display.HTML object>"
      ]
     },
     "metadata": {},
     "output_type": "display_data"
    },
    {
     "data": {
      "text/html": [],
      "text/plain": [
       "<IPython.core.display.HTML object>"
      ]
     },
     "metadata": {},
     "output_type": "display_data"
    },
    {
     "data": {
      "text/html": [],
      "text/plain": [
       "<IPython.core.display.HTML object>"
      ]
     },
     "metadata": {},
     "output_type": "display_data"
    },
    {
     "data": {
      "text/html": [],
      "text/plain": [
       "<IPython.core.display.HTML object>"
      ]
     },
     "metadata": {},
     "output_type": "display_data"
    },
    {
     "data": {
      "text/html": [],
      "text/plain": [
       "<IPython.core.display.HTML object>"
      ]
     },
     "metadata": {},
     "output_type": "display_data"
    },
    {
     "data": {
      "text/html": [],
      "text/plain": [
       "<IPython.core.display.HTML object>"
      ]
     },
     "metadata": {},
     "output_type": "display_data"
    },
    {
     "data": {
      "text/html": [],
      "text/plain": [
       "<IPython.core.display.HTML object>"
      ]
     },
     "metadata": {},
     "output_type": "display_data"
    },
    {
     "data": {
      "text/html": [],
      "text/plain": [
       "<IPython.core.display.HTML object>"
      ]
     },
     "metadata": {},
     "output_type": "display_data"
    },
    {
     "data": {
      "text/html": [],
      "text/plain": [
       "<IPython.core.display.HTML object>"
      ]
     },
     "metadata": {},
     "output_type": "display_data"
    },
    {
     "data": {
      "text/html": [],
      "text/plain": [
       "<IPython.core.display.HTML object>"
      ]
     },
     "metadata": {},
     "output_type": "display_data"
    },
    {
     "data": {
      "text/html": [],
      "text/plain": [
       "<IPython.core.display.HTML object>"
      ]
     },
     "metadata": {},
     "output_type": "display_data"
    },
    {
     "data": {
      "text/html": [],
      "text/plain": [
       "<IPython.core.display.HTML object>"
      ]
     },
     "metadata": {},
     "output_type": "display_data"
    },
    {
     "data": {
      "text/html": [],
      "text/plain": [
       "<IPython.core.display.HTML object>"
      ]
     },
     "metadata": {},
     "output_type": "display_data"
    },
    {
     "data": {
      "text/html": [],
      "text/plain": [
       "<IPython.core.display.HTML object>"
      ]
     },
     "metadata": {},
     "output_type": "display_data"
    },
    {
     "data": {
      "text/html": [],
      "text/plain": [
       "<IPython.core.display.HTML object>"
      ]
     },
     "metadata": {},
     "output_type": "display_data"
    },
    {
     "data": {
      "text/html": [],
      "text/plain": [
       "<IPython.core.display.HTML object>"
      ]
     },
     "metadata": {},
     "output_type": "display_data"
    },
    {
     "data": {
      "text/html": [],
      "text/plain": [
       "<IPython.core.display.HTML object>"
      ]
     },
     "metadata": {},
     "output_type": "display_data"
    },
    {
     "data": {
      "text/html": [],
      "text/plain": [
       "<IPython.core.display.HTML object>"
      ]
     },
     "metadata": {},
     "output_type": "display_data"
    },
    {
     "data": {
      "text/html": [],
      "text/plain": [
       "<IPython.core.display.HTML object>"
      ]
     },
     "metadata": {},
     "output_type": "display_data"
    },
    {
     "data": {
      "text/html": [],
      "text/plain": [
       "<IPython.core.display.HTML object>"
      ]
     },
     "metadata": {},
     "output_type": "display_data"
    },
    {
     "data": {
      "text/html": [],
      "text/plain": [
       "<IPython.core.display.HTML object>"
      ]
     },
     "metadata": {},
     "output_type": "display_data"
    },
    {
     "data": {
      "text/html": [],
      "text/plain": [
       "<IPython.core.display.HTML object>"
      ]
     },
     "metadata": {},
     "output_type": "display_data"
    },
    {
     "data": {
      "text/html": [],
      "text/plain": [
       "<IPython.core.display.HTML object>"
      ]
     },
     "metadata": {},
     "output_type": "display_data"
    },
    {
     "data": {
      "text/html": [],
      "text/plain": [
       "<IPython.core.display.HTML object>"
      ]
     },
     "metadata": {},
     "output_type": "display_data"
    },
    {
     "data": {
      "text/html": [],
      "text/plain": [
       "<IPython.core.display.HTML object>"
      ]
     },
     "metadata": {},
     "output_type": "display_data"
    },
    {
     "data": {
      "text/html": [],
      "text/plain": [
       "<IPython.core.display.HTML object>"
      ]
     },
     "metadata": {},
     "output_type": "display_data"
    },
    {
     "data": {
      "text/html": [],
      "text/plain": [
       "<IPython.core.display.HTML object>"
      ]
     },
     "metadata": {},
     "output_type": "display_data"
    },
    {
     "data": {
      "text/html": [],
      "text/plain": [
       "<IPython.core.display.HTML object>"
      ]
     },
     "metadata": {},
     "output_type": "display_data"
    },
    {
     "data": {
      "text/html": [],
      "text/plain": [
       "<IPython.core.display.HTML object>"
      ]
     },
     "metadata": {},
     "output_type": "display_data"
    },
    {
     "data": {
      "text/html": [],
      "text/plain": [
       "<IPython.core.display.HTML object>"
      ]
     },
     "metadata": {},
     "output_type": "display_data"
    },
    {
     "data": {
      "text/html": [],
      "text/plain": [
       "<IPython.core.display.HTML object>"
      ]
     },
     "metadata": {},
     "output_type": "display_data"
    },
    {
     "data": {
      "text/html": [],
      "text/plain": [
       "<IPython.core.display.HTML object>"
      ]
     },
     "metadata": {},
     "output_type": "display_data"
    },
    {
     "data": {
      "text/html": [],
      "text/plain": [
       "<IPython.core.display.HTML object>"
      ]
     },
     "metadata": {},
     "output_type": "display_data"
    },
    {
     "data": {
      "text/html": [],
      "text/plain": [
       "<IPython.core.display.HTML object>"
      ]
     },
     "metadata": {},
     "output_type": "display_data"
    },
    {
     "data": {
      "text/html": [],
      "text/plain": [
       "<IPython.core.display.HTML object>"
      ]
     },
     "metadata": {},
     "output_type": "display_data"
    },
    {
     "data": {
      "text/html": [],
      "text/plain": [
       "<IPython.core.display.HTML object>"
      ]
     },
     "metadata": {},
     "output_type": "display_data"
    },
    {
     "data": {
      "text/html": [],
      "text/plain": [
       "<IPython.core.display.HTML object>"
      ]
     },
     "metadata": {},
     "output_type": "display_data"
    },
    {
     "data": {
      "text/html": [],
      "text/plain": [
       "<IPython.core.display.HTML object>"
      ]
     },
     "metadata": {},
     "output_type": "display_data"
    },
    {
     "name": "stdout",
     "output_type": "stream",
     "text": [
      "Validation complete - Accuracy:  0.8478260869565217\n"
     ]
    },
    {
     "data": {
      "text/html": [
       "<div>\n",
       "<style scoped>\n",
       "    .dataframe tbody tr th:only-of-type {\n",
       "        vertical-align: middle;\n",
       "    }\n",
       "\n",
       "    .dataframe tbody tr th {\n",
       "        vertical-align: top;\n",
       "    }\n",
       "\n",
       "    .dataframe thead th {\n",
       "        text-align: right;\n",
       "    }\n",
       "</style>\n",
       "<table border=\"1\" class=\"dataframe\">\n",
       "  <thead>\n",
       "    <tr style=\"text-align: right;\">\n",
       "      <th></th>\n",
       "      <th>Folder</th>\n",
       "      <th>Image</th>\n",
       "      <th>Result</th>\n",
       "      <th>Correct</th>\n",
       "      <th>FolderName Probability</th>\n",
       "    </tr>\n",
       "  </thead>\n",
       "  <tbody>\n",
       "    <tr>\n",
       "      <th>0</th>\n",
       "      <td>not-a-pet</td>\n",
       "      <td>12ba530f-cc64-4a22-a6aa-3785928f6d5f.jpg</td>\n",
       "      <td>[(not-a-pet, 1.0)]</td>\n",
       "      <td>True</td>\n",
       "      <td>9.999969e-01</td>\n",
       "    </tr>\n",
       "    <tr>\n",
       "      <th>1</th>\n",
       "      <td>Abyssinian</td>\n",
       "      <td>80a081e9-1215-45cd-9ba4-6dc3fa2508eb.jpg</td>\n",
       "      <td>[(cat, 1.0), (Abyssinian, 1.0)]</td>\n",
       "      <td>True</td>\n",
       "      <td>9.966987e-01</td>\n",
       "    </tr>\n",
       "    <tr>\n",
       "      <th>2</th>\n",
       "      <td>American Bobtail</td>\n",
       "      <td>94539190-dbfb-438f-9f16-ada3c8e7f0ff.jpg</td>\n",
       "      <td>[(cat, 1.0), (American Bobtail, 0.99)]</td>\n",
       "      <td>True</td>\n",
       "      <td>9.930386e-01</td>\n",
       "    </tr>\n",
       "    <tr>\n",
       "      <th>3</th>\n",
       "      <td>American Curl</td>\n",
       "      <td>645b9d9c-7808-446a-92bd-aa3f25f214e2.jpg</td>\n",
       "      <td>[(cat, 1.0), (American Curl, 1.0)]</td>\n",
       "      <td>True</td>\n",
       "      <td>9.976841e-01</td>\n",
       "    </tr>\n",
       "    <tr>\n",
       "      <th>4</th>\n",
       "      <td>American Shorthair</td>\n",
       "      <td>1c440f90-2884-4659-9c0a-8b70a38114a7.jpg</td>\n",
       "      <td>[(cat, 1.0), (American Shorthair, 0.99)]</td>\n",
       "      <td>True</td>\n",
       "      <td>9.871653e-01</td>\n",
       "    </tr>\n",
       "    <tr>\n",
       "      <th>5</th>\n",
       "      <td>American Wirehair</td>\n",
       "      <td>2fe58588-85c0-4eee-a371-96ea54585bac.jpg</td>\n",
       "      <td>[(cat, 1.0), (Turkish Van, 0.94)]</td>\n",
       "      <td>False</td>\n",
       "      <td>4.652964e-02</td>\n",
       "    </tr>\n",
       "    <tr>\n",
       "      <th>6</th>\n",
       "      <td>Balinese</td>\n",
       "      <td>9ade07bf-ba17-4721-8445-e1b02e8ca24e.jpg</td>\n",
       "      <td>[(cat, 1.0), (Balinese, 1.0)]</td>\n",
       "      <td>True</td>\n",
       "      <td>9.958941e-01</td>\n",
       "    </tr>\n",
       "    <tr>\n",
       "      <th>7</th>\n",
       "      <td>Bengal</td>\n",
       "      <td>781811c6-708a-4460-bc01-d4a48e4b998a.jpg</td>\n",
       "      <td>[(cat, 1.0), (Bengal, 0.99)]</td>\n",
       "      <td>True</td>\n",
       "      <td>9.932834e-01</td>\n",
       "    </tr>\n",
       "    <tr>\n",
       "      <th>8</th>\n",
       "      <td>Birman</td>\n",
       "      <td>52f1dccd-a6f1-4542-a77f-989848d686d8.jpg</td>\n",
       "      <td>[(cat, 1.0), (Birman, 0.99)]</td>\n",
       "      <td>True</td>\n",
       "      <td>9.940586e-01</td>\n",
       "    </tr>\n",
       "    <tr>\n",
       "      <th>9</th>\n",
       "      <td>Bombay</td>\n",
       "      <td>d2ba4511-d8ae-4f70-b3dc-2c71baad3a7f.jpg</td>\n",
       "      <td>[(cat, 1.0), (Bombay, 1.0)]</td>\n",
       "      <td>True</td>\n",
       "      <td>9.971705e-01</td>\n",
       "    </tr>\n",
       "    <tr>\n",
       "      <th>10</th>\n",
       "      <td>British Shorthair</td>\n",
       "      <td>87f52263-2e28-4f50-bd5e-91c85f25f0d7.jpg</td>\n",
       "      <td>[(cat, 1.0), (LaPerm, 0.34)]</td>\n",
       "      <td>False</td>\n",
       "      <td>2.759292e-03</td>\n",
       "    </tr>\n",
       "    <tr>\n",
       "      <th>11</th>\n",
       "      <td>Burmese</td>\n",
       "      <td>72d5b9c9-f18f-4ba5-b2ba-bb15ad12f83b.jpg</td>\n",
       "      <td>[(cat, 1.0), (Burmese, 0.95)]</td>\n",
       "      <td>True</td>\n",
       "      <td>9.516040e-01</td>\n",
       "    </tr>\n",
       "    <tr>\n",
       "      <th>12</th>\n",
       "      <td>Chartreux</td>\n",
       "      <td>3228ccd8-03ab-42ac-956c-5436a11356d1.jpg</td>\n",
       "      <td>[(cat, 1.0), (Chartreux, 1.0)]</td>\n",
       "      <td>True</td>\n",
       "      <td>9.997761e-01</td>\n",
       "    </tr>\n",
       "    <tr>\n",
       "      <th>13</th>\n",
       "      <td>Cheetoh</td>\n",
       "      <td>6e927d6e-38f3-47d6-a168-355f1dcde443.jpg</td>\n",
       "      <td>[(cat, 1.0), (Cheetoh, 1.0)]</td>\n",
       "      <td>True</td>\n",
       "      <td>9.992684e-01</td>\n",
       "    </tr>\n",
       "    <tr>\n",
       "      <th>14</th>\n",
       "      <td>Cornish Rex</td>\n",
       "      <td>66291e9e-4fac-40dd-afa5-12a3bf91c9df.jpg</td>\n",
       "      <td>[(cat, 1.0), (Devon Rex, 0.75)]</td>\n",
       "      <td>False</td>\n",
       "      <td>1.516244e-01</td>\n",
       "    </tr>\n",
       "    <tr>\n",
       "      <th>15</th>\n",
       "      <td>Devon Rex</td>\n",
       "      <td>3e2c6272-5a2c-49bb-97be-8746a1dc90c8.jpg</td>\n",
       "      <td>[(cat, 1.0), (Cornish Rex, 0.72), (Devon Rex, 0.27)]</td>\n",
       "      <td>True</td>\n",
       "      <td>2.728318e-01</td>\n",
       "    </tr>\n",
       "    <tr>\n",
       "      <th>16</th>\n",
       "      <td>Egyptian Mau</td>\n",
       "      <td>57a5b2eb-432a-486b-b138-4097187554e5.jpg</td>\n",
       "      <td>[(cat, 1.0)]</td>\n",
       "      <td>False</td>\n",
       "      <td>2.559581e-02</td>\n",
       "    </tr>\n",
       "    <tr>\n",
       "      <th>17</th>\n",
       "      <td>Exotic Shorthair</td>\n",
       "      <td>09a923bf-4e58-4523-a079-15af4af69972.jpg</td>\n",
       "      <td>[(cat, 1.0), (Exotic Shorthair, 0.95)]</td>\n",
       "      <td>True</td>\n",
       "      <td>9.535529e-01</td>\n",
       "    </tr>\n",
       "    <tr>\n",
       "      <th>18</th>\n",
       "      <td>Havana Brown</td>\n",
       "      <td>6d61e7f1-c9f9-40b7-a471-436b97d536fd.jpg</td>\n",
       "      <td>[(cat, 1.0), (Havana Brown, 1.0)]</td>\n",
       "      <td>True</td>\n",
       "      <td>9.988585e-01</td>\n",
       "    </tr>\n",
       "    <tr>\n",
       "      <th>19</th>\n",
       "      <td>Japanese Bobtail</td>\n",
       "      <td>2c64aa16-6867-4ea4-a84c-a0265e04377b.jpg</td>\n",
       "      <td>[(cat, 1.0), (Japanese Bobtail, 0.52)]</td>\n",
       "      <td>True</td>\n",
       "      <td>5.198435e-01</td>\n",
       "    </tr>\n",
       "    <tr>\n",
       "      <th>20</th>\n",
       "      <td>Khao Manee</td>\n",
       "      <td>0210b9e0-8c20-4ea1-a7b5-b92ab195b1ed.jpg</td>\n",
       "      <td>[(cat, 1.0), (Khao Manee, 1.0)]</td>\n",
       "      <td>True</td>\n",
       "      <td>9.997876e-01</td>\n",
       "    </tr>\n",
       "    <tr>\n",
       "      <th>21</th>\n",
       "      <td>LaPerm</td>\n",
       "      <td>151f44f6-bd81-4bd8-8cb7-a9a7e2563541.jpg</td>\n",
       "      <td>[(cat, 1.0), (LaPerm, 0.96)]</td>\n",
       "      <td>True</td>\n",
       "      <td>9.601769e-01</td>\n",
       "    </tr>\n",
       "    <tr>\n",
       "      <th>22</th>\n",
       "      <td>Lykoi</td>\n",
       "      <td>21b4c1db-8ff3-43d4-bba8-4cff46092f6b.jpg</td>\n",
       "      <td>[(cat, 1.0), (Lykoi, 1.0)]</td>\n",
       "      <td>True</td>\n",
       "      <td>9.997669e-01</td>\n",
       "    </tr>\n",
       "    <tr>\n",
       "      <th>23</th>\n",
       "      <td>Maine Coon</td>\n",
       "      <td>a4fc54b0-1df6-461f-b385-8e6fb1f73208.jpg</td>\n",
       "      <td>[(cat, 1.0), (Maine Coon, 0.99)]</td>\n",
       "      <td>True</td>\n",
       "      <td>9.881530e-01</td>\n",
       "    </tr>\n",
       "    <tr>\n",
       "      <th>24</th>\n",
       "      <td>Manx</td>\n",
       "      <td>0a4a181f-25db-40ee-961b-662c51036baa.jpg</td>\n",
       "      <td>[(cat, 1.0), (American Wirehair, 0.64)]</td>\n",
       "      <td>False</td>\n",
       "      <td>2.587795e-02</td>\n",
       "    </tr>\n",
       "    <tr>\n",
       "      <th>25</th>\n",
       "      <td>Munchkin</td>\n",
       "      <td>7a454e0a-e42b-49e4-858b-670e1e4b4156.jpg</td>\n",
       "      <td>[(cat, 1.0), (Munchkin, 1.0)]</td>\n",
       "      <td>True</td>\n",
       "      <td>9.986212e-01</td>\n",
       "    </tr>\n",
       "    <tr>\n",
       "      <th>26</th>\n",
       "      <td>Norwegian Forest Cat</td>\n",
       "      <td>09691c85-70dd-4fac-adab-b314716be94f.jpg</td>\n",
       "      <td>[(cat, 1.0), (Norwegian Forest Cat, 0.96)]</td>\n",
       "      <td>True</td>\n",
       "      <td>9.606596e-01</td>\n",
       "    </tr>\n",
       "    <tr>\n",
       "      <th>27</th>\n",
       "      <td>Ocicat</td>\n",
       "      <td>5aeed2ec-fc88-4692-8a37-a17625657d1b.jpg</td>\n",
       "      <td>[(cat, 1.0), (Ocicat, 1.0)]</td>\n",
       "      <td>True</td>\n",
       "      <td>9.990795e-01</td>\n",
       "    </tr>\n",
       "    <tr>\n",
       "      <th>28</th>\n",
       "      <td>Oriental Shorthair</td>\n",
       "      <td>708a85a4-f912-4877-8097-9330561b4154.jpg</td>\n",
       "      <td>[(cat, 1.0), (Oriental Shorthair, 1.0)]</td>\n",
       "      <td>True</td>\n",
       "      <td>9.986839e-01</td>\n",
       "    </tr>\n",
       "    <tr>\n",
       "      <th>29</th>\n",
       "      <td>Persian</td>\n",
       "      <td>01c97a77-1dee-4600-b73c-0d7349c83b8d.jpg</td>\n",
       "      <td>[(cat, 1.0), (Persian, 1.0)]</td>\n",
       "      <td>True</td>\n",
       "      <td>9.996341e-01</td>\n",
       "    </tr>\n",
       "    <tr>\n",
       "      <th>30</th>\n",
       "      <td>Peterbald</td>\n",
       "      <td>27a26022-062b-4c39-b009-c777f882a3eb.jpg</td>\n",
       "      <td>[(cat, 1.0), (Cornish Rex, 0.38), (Peterbald, 0.28)]</td>\n",
       "      <td>True</td>\n",
       "      <td>2.805539e-01</td>\n",
       "    </tr>\n",
       "    <tr>\n",
       "      <th>31</th>\n",
       "      <td>Ragdoll</td>\n",
       "      <td>4c30d38f-9865-4bdd-87d0-84507a0aaafb.jpg</td>\n",
       "      <td>[(cat, 1.0), (Ragdoll, 1.0)]</td>\n",
       "      <td>True</td>\n",
       "      <td>9.997947e-01</td>\n",
       "    </tr>\n",
       "    <tr>\n",
       "      <th>32</th>\n",
       "      <td>Russian Blue</td>\n",
       "      <td>18488236-72ab-49a4-bb93-59cafd06d637.jpg</td>\n",
       "      <td>[(cat, 1.0), (Russian Blue, 0.99)]</td>\n",
       "      <td>True</td>\n",
       "      <td>9.913775e-01</td>\n",
       "    </tr>\n",
       "    <tr>\n",
       "      <th>33</th>\n",
       "      <td>Savannah</td>\n",
       "      <td>0e659639-2f1b-4621-ae09-65d76009712a.jpg</td>\n",
       "      <td>[(cat, 1.0), (Savannah, 0.99)]</td>\n",
       "      <td>True</td>\n",
       "      <td>9.938853e-01</td>\n",
       "    </tr>\n",
       "    <tr>\n",
       "      <th>34</th>\n",
       "      <td>Scottish Fold</td>\n",
       "      <td>108a98be-836b-465f-bc75-f0a5b73204c7.jpg</td>\n",
       "      <td>[(cat, 1.0), (Scottish Fold, 0.96)]</td>\n",
       "      <td>True</td>\n",
       "      <td>9.640793e-01</td>\n",
       "    </tr>\n",
       "    <tr>\n",
       "      <th>35</th>\n",
       "      <td>Selkirk Rex</td>\n",
       "      <td>63f1c922-6853-402d-a6e1-9b1131f8b4a0.jpg</td>\n",
       "      <td>[(cat, 1.0), (Russian Blue, 1.0)]</td>\n",
       "      <td>False</td>\n",
       "      <td>8.690520e-07</td>\n",
       "    </tr>\n",
       "    <tr>\n",
       "      <th>36</th>\n",
       "      <td>Siamese</td>\n",
       "      <td>5110960d-69cf-4598-9691-9def805659fa.jpg</td>\n",
       "      <td>[(cat, 1.0), (Siamese, 0.93), (Balinese, 0.22)]</td>\n",
       "      <td>True</td>\n",
       "      <td>9.278265e-01</td>\n",
       "    </tr>\n",
       "    <tr>\n",
       "      <th>37</th>\n",
       "      <td>Siberian</td>\n",
       "      <td>08b2cb1f-f6bf-4147-9488-5b7921b6bca4.jpg</td>\n",
       "      <td>[(cat, 1.0), (Siberian, 1.0)]</td>\n",
       "      <td>True</td>\n",
       "      <td>9.963630e-01</td>\n",
       "    </tr>\n",
       "    <tr>\n",
       "      <th>38</th>\n",
       "      <td>Singapura</td>\n",
       "      <td>7c8cb030-c9b0-47a4-930d-cdf2bfda6c8d.jpg</td>\n",
       "      <td>[(cat, 1.0), (Singapura, 1.0)]</td>\n",
       "      <td>True</td>\n",
       "      <td>9.998448e-01</td>\n",
       "    </tr>\n",
       "    <tr>\n",
       "      <th>39</th>\n",
       "      <td>Snowshoe</td>\n",
       "      <td>c97311d8-bd81-4b7d-a6b8-de8ecc079693.jpg</td>\n",
       "      <td>[(cat, 1.0), (Snowshoe, 1.0)]</td>\n",
       "      <td>True</td>\n",
       "      <td>9.994668e-01</td>\n",
       "    </tr>\n",
       "    <tr>\n",
       "      <th>40</th>\n",
       "      <td>Somali</td>\n",
       "      <td>011190c6-8fd4-40dc-88a9-903bb2a98e29.jpg</td>\n",
       "      <td>[(cat, 1.0), (Somali, 1.0)]</td>\n",
       "      <td>True</td>\n",
       "      <td>9.989122e-01</td>\n",
       "    </tr>\n",
       "    <tr>\n",
       "      <th>41</th>\n",
       "      <td>Sphynx</td>\n",
       "      <td>2609f999-605d-4404-aff7-b2ae6b4b21db.jpg</td>\n",
       "      <td>[(cat, 1.0), (Sphynx, 1.0)]</td>\n",
       "      <td>True</td>\n",
       "      <td>9.961553e-01</td>\n",
       "    </tr>\n",
       "    <tr>\n",
       "      <th>42</th>\n",
       "      <td>Tonkinese</td>\n",
       "      <td>1e26a080-b537-4c7b-ab99-e84301355f42.jpg</td>\n",
       "      <td>[(cat, 1.0), (Tonkinese, 0.92), (Burmese, 0.22)]</td>\n",
       "      <td>True</td>\n",
       "      <td>9.198276e-01</td>\n",
       "    </tr>\n",
       "    <tr>\n",
       "      <th>43</th>\n",
       "      <td>Toyger</td>\n",
       "      <td>0bc01bdf-2a84-4fdc-bb1e-4ad8125aae3a.jpg</td>\n",
       "      <td>[(cat, 1.0), (Toyger, 0.78)]</td>\n",
       "      <td>True</td>\n",
       "      <td>7.781376e-01</td>\n",
       "    </tr>\n",
       "    <tr>\n",
       "      <th>44</th>\n",
       "      <td>Turkish Angora</td>\n",
       "      <td>b6bfeb0e-cc81-4b8f-8e0c-935489668836.jpg</td>\n",
       "      <td>[(cat, 1.0), (Siberian, 0.37)]</td>\n",
       "      <td>False</td>\n",
       "      <td>1.269474e-01</td>\n",
       "    </tr>\n",
       "    <tr>\n",
       "      <th>45</th>\n",
       "      <td>Turkish Van</td>\n",
       "      <td>139e48f0-b7e1-4097-8ace-b8e12b550a8d.jpg</td>\n",
       "      <td>[(cat, 1.0), (Turkish Van, 1.0)]</td>\n",
       "      <td>True</td>\n",
       "      <td>9.997992e-01</td>\n",
       "    </tr>\n",
       "  </tbody>\n",
       "</table>\n",
       "</div>"
      ],
      "text/plain": [
       "                  Folder                                     Image  \\\n",
       "0              not-a-pet  12ba530f-cc64-4a22-a6aa-3785928f6d5f.jpg   \n",
       "1             Abyssinian  80a081e9-1215-45cd-9ba4-6dc3fa2508eb.jpg   \n",
       "2       American Bobtail  94539190-dbfb-438f-9f16-ada3c8e7f0ff.jpg   \n",
       "3          American Curl  645b9d9c-7808-446a-92bd-aa3f25f214e2.jpg   \n",
       "4     American Shorthair  1c440f90-2884-4659-9c0a-8b70a38114a7.jpg   \n",
       "5      American Wirehair  2fe58588-85c0-4eee-a371-96ea54585bac.jpg   \n",
       "6               Balinese  9ade07bf-ba17-4721-8445-e1b02e8ca24e.jpg   \n",
       "7                 Bengal  781811c6-708a-4460-bc01-d4a48e4b998a.jpg   \n",
       "8                 Birman  52f1dccd-a6f1-4542-a77f-989848d686d8.jpg   \n",
       "9                 Bombay  d2ba4511-d8ae-4f70-b3dc-2c71baad3a7f.jpg   \n",
       "10     British Shorthair  87f52263-2e28-4f50-bd5e-91c85f25f0d7.jpg   \n",
       "11               Burmese  72d5b9c9-f18f-4ba5-b2ba-bb15ad12f83b.jpg   \n",
       "12             Chartreux  3228ccd8-03ab-42ac-956c-5436a11356d1.jpg   \n",
       "13               Cheetoh  6e927d6e-38f3-47d6-a168-355f1dcde443.jpg   \n",
       "14           Cornish Rex  66291e9e-4fac-40dd-afa5-12a3bf91c9df.jpg   \n",
       "15             Devon Rex  3e2c6272-5a2c-49bb-97be-8746a1dc90c8.jpg   \n",
       "16          Egyptian Mau  57a5b2eb-432a-486b-b138-4097187554e5.jpg   \n",
       "17      Exotic Shorthair  09a923bf-4e58-4523-a079-15af4af69972.jpg   \n",
       "18          Havana Brown  6d61e7f1-c9f9-40b7-a471-436b97d536fd.jpg   \n",
       "19      Japanese Bobtail  2c64aa16-6867-4ea4-a84c-a0265e04377b.jpg   \n",
       "20            Khao Manee  0210b9e0-8c20-4ea1-a7b5-b92ab195b1ed.jpg   \n",
       "21                LaPerm  151f44f6-bd81-4bd8-8cb7-a9a7e2563541.jpg   \n",
       "22                 Lykoi  21b4c1db-8ff3-43d4-bba8-4cff46092f6b.jpg   \n",
       "23            Maine Coon  a4fc54b0-1df6-461f-b385-8e6fb1f73208.jpg   \n",
       "24                  Manx  0a4a181f-25db-40ee-961b-662c51036baa.jpg   \n",
       "25              Munchkin  7a454e0a-e42b-49e4-858b-670e1e4b4156.jpg   \n",
       "26  Norwegian Forest Cat  09691c85-70dd-4fac-adab-b314716be94f.jpg   \n",
       "27                Ocicat  5aeed2ec-fc88-4692-8a37-a17625657d1b.jpg   \n",
       "28    Oriental Shorthair  708a85a4-f912-4877-8097-9330561b4154.jpg   \n",
       "29               Persian  01c97a77-1dee-4600-b73c-0d7349c83b8d.jpg   \n",
       "30             Peterbald  27a26022-062b-4c39-b009-c777f882a3eb.jpg   \n",
       "31               Ragdoll  4c30d38f-9865-4bdd-87d0-84507a0aaafb.jpg   \n",
       "32          Russian Blue  18488236-72ab-49a4-bb93-59cafd06d637.jpg   \n",
       "33              Savannah  0e659639-2f1b-4621-ae09-65d76009712a.jpg   \n",
       "34         Scottish Fold  108a98be-836b-465f-bc75-f0a5b73204c7.jpg   \n",
       "35           Selkirk Rex  63f1c922-6853-402d-a6e1-9b1131f8b4a0.jpg   \n",
       "36               Siamese  5110960d-69cf-4598-9691-9def805659fa.jpg   \n",
       "37              Siberian  08b2cb1f-f6bf-4147-9488-5b7921b6bca4.jpg   \n",
       "38             Singapura  7c8cb030-c9b0-47a4-930d-cdf2bfda6c8d.jpg   \n",
       "39              Snowshoe  c97311d8-bd81-4b7d-a6b8-de8ecc079693.jpg   \n",
       "40                Somali  011190c6-8fd4-40dc-88a9-903bb2a98e29.jpg   \n",
       "41                Sphynx  2609f999-605d-4404-aff7-b2ae6b4b21db.jpg   \n",
       "42             Tonkinese  1e26a080-b537-4c7b-ab99-e84301355f42.jpg   \n",
       "43                Toyger  0bc01bdf-2a84-4fdc-bb1e-4ad8125aae3a.jpg   \n",
       "44        Turkish Angora  b6bfeb0e-cc81-4b8f-8e0c-935489668836.jpg   \n",
       "45           Turkish Van  139e48f0-b7e1-4097-8ace-b8e12b550a8d.jpg   \n",
       "\n",
       "                                                  Result  Correct  \\\n",
       "0                                     [(not-a-pet, 1.0)]     True   \n",
       "1                        [(cat, 1.0), (Abyssinian, 1.0)]     True   \n",
       "2                 [(cat, 1.0), (American Bobtail, 0.99)]     True   \n",
       "3                     [(cat, 1.0), (American Curl, 1.0)]     True   \n",
       "4               [(cat, 1.0), (American Shorthair, 0.99)]     True   \n",
       "5                      [(cat, 1.0), (Turkish Van, 0.94)]    False   \n",
       "6                          [(cat, 1.0), (Balinese, 1.0)]     True   \n",
       "7                           [(cat, 1.0), (Bengal, 0.99)]     True   \n",
       "8                           [(cat, 1.0), (Birman, 0.99)]     True   \n",
       "9                            [(cat, 1.0), (Bombay, 1.0)]     True   \n",
       "10                          [(cat, 1.0), (LaPerm, 0.34)]    False   \n",
       "11                         [(cat, 1.0), (Burmese, 0.95)]     True   \n",
       "12                        [(cat, 1.0), (Chartreux, 1.0)]     True   \n",
       "13                          [(cat, 1.0), (Cheetoh, 1.0)]     True   \n",
       "14                       [(cat, 1.0), (Devon Rex, 0.75)]    False   \n",
       "15  [(cat, 1.0), (Cornish Rex, 0.72), (Devon Rex, 0.27)]     True   \n",
       "16                                          [(cat, 1.0)]    False   \n",
       "17                [(cat, 1.0), (Exotic Shorthair, 0.95)]     True   \n",
       "18                     [(cat, 1.0), (Havana Brown, 1.0)]     True   \n",
       "19                [(cat, 1.0), (Japanese Bobtail, 0.52)]     True   \n",
       "20                       [(cat, 1.0), (Khao Manee, 1.0)]     True   \n",
       "21                          [(cat, 1.0), (LaPerm, 0.96)]     True   \n",
       "22                            [(cat, 1.0), (Lykoi, 1.0)]     True   \n",
       "23                      [(cat, 1.0), (Maine Coon, 0.99)]     True   \n",
       "24               [(cat, 1.0), (American Wirehair, 0.64)]    False   \n",
       "25                         [(cat, 1.0), (Munchkin, 1.0)]     True   \n",
       "26            [(cat, 1.0), (Norwegian Forest Cat, 0.96)]     True   \n",
       "27                           [(cat, 1.0), (Ocicat, 1.0)]     True   \n",
       "28               [(cat, 1.0), (Oriental Shorthair, 1.0)]     True   \n",
       "29                          [(cat, 1.0), (Persian, 1.0)]     True   \n",
       "30  [(cat, 1.0), (Cornish Rex, 0.38), (Peterbald, 0.28)]     True   \n",
       "31                          [(cat, 1.0), (Ragdoll, 1.0)]     True   \n",
       "32                    [(cat, 1.0), (Russian Blue, 0.99)]     True   \n",
       "33                        [(cat, 1.0), (Savannah, 0.99)]     True   \n",
       "34                   [(cat, 1.0), (Scottish Fold, 0.96)]     True   \n",
       "35                     [(cat, 1.0), (Russian Blue, 1.0)]    False   \n",
       "36       [(cat, 1.0), (Siamese, 0.93), (Balinese, 0.22)]     True   \n",
       "37                         [(cat, 1.0), (Siberian, 1.0)]     True   \n",
       "38                        [(cat, 1.0), (Singapura, 1.0)]     True   \n",
       "39                         [(cat, 1.0), (Snowshoe, 1.0)]     True   \n",
       "40                           [(cat, 1.0), (Somali, 1.0)]     True   \n",
       "41                           [(cat, 1.0), (Sphynx, 1.0)]     True   \n",
       "42      [(cat, 1.0), (Tonkinese, 0.92), (Burmese, 0.22)]     True   \n",
       "43                          [(cat, 1.0), (Toyger, 0.78)]     True   \n",
       "44                        [(cat, 1.0), (Siberian, 0.37)]    False   \n",
       "45                      [(cat, 1.0), (Turkish Van, 1.0)]     True   \n",
       "\n",
       "    FolderName Probability  \n",
       "0             9.999969e-01  \n",
       "1             9.966987e-01  \n",
       "2             9.930386e-01  \n",
       "3             9.976841e-01  \n",
       "4             9.871653e-01  \n",
       "5             4.652964e-02  \n",
       "6             9.958941e-01  \n",
       "7             9.932834e-01  \n",
       "8             9.940586e-01  \n",
       "9             9.971705e-01  \n",
       "10            2.759292e-03  \n",
       "11            9.516040e-01  \n",
       "12            9.997761e-01  \n",
       "13            9.992684e-01  \n",
       "14            1.516244e-01  \n",
       "15            2.728318e-01  \n",
       "16            2.559581e-02  \n",
       "17            9.535529e-01  \n",
       "18            9.988585e-01  \n",
       "19            5.198435e-01  \n",
       "20            9.997876e-01  \n",
       "21            9.601769e-01  \n",
       "22            9.997669e-01  \n",
       "23            9.881530e-01  \n",
       "24            2.587795e-02  \n",
       "25            9.986212e-01  \n",
       "26            9.606596e-01  \n",
       "27            9.990795e-01  \n",
       "28            9.986839e-01  \n",
       "29            9.996341e-01  \n",
       "30            2.805539e-01  \n",
       "31            9.997947e-01  \n",
       "32            9.913775e-01  \n",
       "33            9.938853e-01  \n",
       "34            9.640793e-01  \n",
       "35            8.690520e-07  \n",
       "36            9.278265e-01  \n",
       "37            9.963630e-01  \n",
       "38            9.998448e-01  \n",
       "39            9.994668e-01  \n",
       "40            9.989122e-01  \n",
       "41            9.961553e-01  \n",
       "42            9.198276e-01  \n",
       "43            7.781376e-01  \n",
       "44            1.269474e-01  \n",
       "45            9.997992e-01  "
      ]
     },
     "metadata": {},
     "output_type": "display_data"
    }
   ],
   "source": [
    "display_results(perform_validation_on_a_batch(path=Path(\"inputs/processed/valid\"), n=1))"
   ]
  },
  {
   "cell_type": "code",
   "execution_count": 189,
   "metadata": {},
   "outputs": [
    {
     "data": {
      "text/html": [],
      "text/plain": [
       "<IPython.core.display.HTML object>"
      ]
     },
     "metadata": {},
     "output_type": "display_data"
    },
    {
     "data": {
      "text/html": [],
      "text/plain": [
       "<IPython.core.display.HTML object>"
      ]
     },
     "metadata": {},
     "output_type": "display_data"
    },
    {
     "data": {
      "text/html": [],
      "text/plain": [
       "<IPython.core.display.HTML object>"
      ]
     },
     "metadata": {},
     "output_type": "display_data"
    },
    {
     "data": {
      "text/html": [],
      "text/plain": [
       "<IPython.core.display.HTML object>"
      ]
     },
     "metadata": {},
     "output_type": "display_data"
    },
    {
     "data": {
      "text/html": [],
      "text/plain": [
       "<IPython.core.display.HTML object>"
      ]
     },
     "metadata": {},
     "output_type": "display_data"
    },
    {
     "data": {
      "text/html": [],
      "text/plain": [
       "<IPython.core.display.HTML object>"
      ]
     },
     "metadata": {},
     "output_type": "display_data"
    },
    {
     "data": {
      "text/html": [],
      "text/plain": [
       "<IPython.core.display.HTML object>"
      ]
     },
     "metadata": {},
     "output_type": "display_data"
    },
    {
     "data": {
      "text/html": [],
      "text/plain": [
       "<IPython.core.display.HTML object>"
      ]
     },
     "metadata": {},
     "output_type": "display_data"
    },
    {
     "data": {
      "text/html": [],
      "text/plain": [
       "<IPython.core.display.HTML object>"
      ]
     },
     "metadata": {},
     "output_type": "display_data"
    },
    {
     "data": {
      "text/html": [],
      "text/plain": [
       "<IPython.core.display.HTML object>"
      ]
     },
     "metadata": {},
     "output_type": "display_data"
    },
    {
     "data": {
      "text/html": [],
      "text/plain": [
       "<IPython.core.display.HTML object>"
      ]
     },
     "metadata": {},
     "output_type": "display_data"
    },
    {
     "data": {
      "text/html": [],
      "text/plain": [
       "<IPython.core.display.HTML object>"
      ]
     },
     "metadata": {},
     "output_type": "display_data"
    },
    {
     "data": {
      "text/html": [],
      "text/plain": [
       "<IPython.core.display.HTML object>"
      ]
     },
     "metadata": {},
     "output_type": "display_data"
    },
    {
     "data": {
      "text/html": [],
      "text/plain": [
       "<IPython.core.display.HTML object>"
      ]
     },
     "metadata": {},
     "output_type": "display_data"
    },
    {
     "data": {
      "text/html": [],
      "text/plain": [
       "<IPython.core.display.HTML object>"
      ]
     },
     "metadata": {},
     "output_type": "display_data"
    },
    {
     "data": {
      "text/html": [],
      "text/plain": [
       "<IPython.core.display.HTML object>"
      ]
     },
     "metadata": {},
     "output_type": "display_data"
    },
    {
     "data": {
      "text/html": [],
      "text/plain": [
       "<IPython.core.display.HTML object>"
      ]
     },
     "metadata": {},
     "output_type": "display_data"
    },
    {
     "data": {
      "text/html": [],
      "text/plain": [
       "<IPython.core.display.HTML object>"
      ]
     },
     "metadata": {},
     "output_type": "display_data"
    },
    {
     "data": {
      "text/html": [],
      "text/plain": [
       "<IPython.core.display.HTML object>"
      ]
     },
     "metadata": {},
     "output_type": "display_data"
    },
    {
     "data": {
      "text/html": [],
      "text/plain": [
       "<IPython.core.display.HTML object>"
      ]
     },
     "metadata": {},
     "output_type": "display_data"
    },
    {
     "data": {
      "text/html": [],
      "text/plain": [
       "<IPython.core.display.HTML object>"
      ]
     },
     "metadata": {},
     "output_type": "display_data"
    },
    {
     "data": {
      "text/html": [],
      "text/plain": [
       "<IPython.core.display.HTML object>"
      ]
     },
     "metadata": {},
     "output_type": "display_data"
    },
    {
     "data": {
      "text/html": [],
      "text/plain": [
       "<IPython.core.display.HTML object>"
      ]
     },
     "metadata": {},
     "output_type": "display_data"
    },
    {
     "data": {
      "text/html": [],
      "text/plain": [
       "<IPython.core.display.HTML object>"
      ]
     },
     "metadata": {},
     "output_type": "display_data"
    },
    {
     "data": {
      "text/html": [],
      "text/plain": [
       "<IPython.core.display.HTML object>"
      ]
     },
     "metadata": {},
     "output_type": "display_data"
    },
    {
     "data": {
      "text/html": [],
      "text/plain": [
       "<IPython.core.display.HTML object>"
      ]
     },
     "metadata": {},
     "output_type": "display_data"
    },
    {
     "data": {
      "text/html": [],
      "text/plain": [
       "<IPython.core.display.HTML object>"
      ]
     },
     "metadata": {},
     "output_type": "display_data"
    },
    {
     "data": {
      "text/html": [],
      "text/plain": [
       "<IPython.core.display.HTML object>"
      ]
     },
     "metadata": {},
     "output_type": "display_data"
    },
    {
     "data": {
      "text/html": [],
      "text/plain": [
       "<IPython.core.display.HTML object>"
      ]
     },
     "metadata": {},
     "output_type": "display_data"
    },
    {
     "data": {
      "text/html": [],
      "text/plain": [
       "<IPython.core.display.HTML object>"
      ]
     },
     "metadata": {},
     "output_type": "display_data"
    },
    {
     "data": {
      "text/html": [],
      "text/plain": [
       "<IPython.core.display.HTML object>"
      ]
     },
     "metadata": {},
     "output_type": "display_data"
    },
    {
     "data": {
      "text/html": [],
      "text/plain": [
       "<IPython.core.display.HTML object>"
      ]
     },
     "metadata": {},
     "output_type": "display_data"
    },
    {
     "data": {
      "text/html": [],
      "text/plain": [
       "<IPython.core.display.HTML object>"
      ]
     },
     "metadata": {},
     "output_type": "display_data"
    },
    {
     "data": {
      "text/html": [],
      "text/plain": [
       "<IPython.core.display.HTML object>"
      ]
     },
     "metadata": {},
     "output_type": "display_data"
    },
    {
     "data": {
      "text/html": [],
      "text/plain": [
       "<IPython.core.display.HTML object>"
      ]
     },
     "metadata": {},
     "output_type": "display_data"
    },
    {
     "data": {
      "text/html": [],
      "text/plain": [
       "<IPython.core.display.HTML object>"
      ]
     },
     "metadata": {},
     "output_type": "display_data"
    },
    {
     "data": {
      "text/html": [],
      "text/plain": [
       "<IPython.core.display.HTML object>"
      ]
     },
     "metadata": {},
     "output_type": "display_data"
    },
    {
     "data": {
      "text/html": [],
      "text/plain": [
       "<IPython.core.display.HTML object>"
      ]
     },
     "metadata": {},
     "output_type": "display_data"
    },
    {
     "data": {
      "text/html": [],
      "text/plain": [
       "<IPython.core.display.HTML object>"
      ]
     },
     "metadata": {},
     "output_type": "display_data"
    },
    {
     "data": {
      "text/html": [],
      "text/plain": [
       "<IPython.core.display.HTML object>"
      ]
     },
     "metadata": {},
     "output_type": "display_data"
    },
    {
     "data": {
      "text/html": [],
      "text/plain": [
       "<IPython.core.display.HTML object>"
      ]
     },
     "metadata": {},
     "output_type": "display_data"
    },
    {
     "data": {
      "text/html": [],
      "text/plain": [
       "<IPython.core.display.HTML object>"
      ]
     },
     "metadata": {},
     "output_type": "display_data"
    },
    {
     "data": {
      "text/html": [],
      "text/plain": [
       "<IPython.core.display.HTML object>"
      ]
     },
     "metadata": {},
     "output_type": "display_data"
    },
    {
     "data": {
      "text/html": [],
      "text/plain": [
       "<IPython.core.display.HTML object>"
      ]
     },
     "metadata": {},
     "output_type": "display_data"
    },
    {
     "data": {
      "text/html": [],
      "text/plain": [
       "<IPython.core.display.HTML object>"
      ]
     },
     "metadata": {},
     "output_type": "display_data"
    },
    {
     "data": {
      "text/html": [],
      "text/plain": [
       "<IPython.core.display.HTML object>"
      ]
     },
     "metadata": {},
     "output_type": "display_data"
    },
    {
     "name": "stdout",
     "output_type": "stream",
     "text": [
      "Validation complete - Accuracy:  0.9782608695652174\n"
     ]
    },
    {
     "data": {
      "text/html": [
       "<div>\n",
       "<style scoped>\n",
       "    .dataframe tbody tr th:only-of-type {\n",
       "        vertical-align: middle;\n",
       "    }\n",
       "\n",
       "    .dataframe tbody tr th {\n",
       "        vertical-align: top;\n",
       "    }\n",
       "\n",
       "    .dataframe thead th {\n",
       "        text-align: right;\n",
       "    }\n",
       "</style>\n",
       "<table border=\"1\" class=\"dataframe\">\n",
       "  <thead>\n",
       "    <tr style=\"text-align: right;\">\n",
       "      <th></th>\n",
       "      <th>Folder</th>\n",
       "      <th>Image</th>\n",
       "      <th>Result</th>\n",
       "      <th>Correct</th>\n",
       "      <th>FolderName Probability</th>\n",
       "    </tr>\n",
       "  </thead>\n",
       "  <tbody>\n",
       "    <tr>\n",
       "      <th>0</th>\n",
       "      <td>not-a-pet</td>\n",
       "      <td>dca00877-b54a-44de-8677-fbb56a8ad741.jpg</td>\n",
       "      <td>[(not-a-pet, 1.0)]</td>\n",
       "      <td>True</td>\n",
       "      <td>0.999989</td>\n",
       "    </tr>\n",
       "    <tr>\n",
       "      <th>1</th>\n",
       "      <td>Abyssinian</td>\n",
       "      <td>1aa53f01-8c20-4572-aa0b-c3f28054786f.jpg</td>\n",
       "      <td>[(cat, 1.0), (Abyssinian, 1.0)]</td>\n",
       "      <td>True</td>\n",
       "      <td>0.996941</td>\n",
       "    </tr>\n",
       "    <tr>\n",
       "      <th>2</th>\n",
       "      <td>American Bobtail</td>\n",
       "      <td>b9dae0c8-edc6-4721-a0fc-0a33f184e440.jpg</td>\n",
       "      <td>[(cat, 1.0), (American Bobtail, 1.0)]</td>\n",
       "      <td>True</td>\n",
       "      <td>0.998370</td>\n",
       "    </tr>\n",
       "    <tr>\n",
       "      <th>3</th>\n",
       "      <td>American Curl</td>\n",
       "      <td>0ed3a46f-c3dd-4d73-bb3f-0df235aade3e.jpg</td>\n",
       "      <td>[(cat, 1.0), (American Curl, 1.0)]</td>\n",
       "      <td>True</td>\n",
       "      <td>0.999170</td>\n",
       "    </tr>\n",
       "    <tr>\n",
       "      <th>4</th>\n",
       "      <td>American Shorthair</td>\n",
       "      <td>207e2438-20e9-45b1-9e96-6780ae956144.jpg</td>\n",
       "      <td>[(cat, 1.0), (American Shorthair, 0.98)]</td>\n",
       "      <td>True</td>\n",
       "      <td>0.983776</td>\n",
       "    </tr>\n",
       "    <tr>\n",
       "      <th>5</th>\n",
       "      <td>American Wirehair</td>\n",
       "      <td>4a491a35-662c-44ab-a65c-87d2f3d0a9bb.jpg</td>\n",
       "      <td>[(cat, 1.0), (American Wirehair, 1.0)]</td>\n",
       "      <td>True</td>\n",
       "      <td>0.999459</td>\n",
       "    </tr>\n",
       "    <tr>\n",
       "      <th>6</th>\n",
       "      <td>Balinese</td>\n",
       "      <td>4e82fab9-a190-4a8c-939d-e02da6b54ee2.jpg</td>\n",
       "      <td>[(cat, 1.0), (Balinese, 1.0)]</td>\n",
       "      <td>True</td>\n",
       "      <td>0.999243</td>\n",
       "    </tr>\n",
       "    <tr>\n",
       "      <th>7</th>\n",
       "      <td>Bengal</td>\n",
       "      <td>73ebe9dc-ab25-4d97-9cd8-308fc9309c04.jpg</td>\n",
       "      <td>[(cat, 1.0), (Bengal, 1.0)]</td>\n",
       "      <td>True</td>\n",
       "      <td>0.997451</td>\n",
       "    </tr>\n",
       "    <tr>\n",
       "      <th>8</th>\n",
       "      <td>Birman</td>\n",
       "      <td>02aa164b-7c2e-47c7-9d59-bfaa2170ea34.jpg</td>\n",
       "      <td>[(cat, 1.0), (Birman, 1.0)]</td>\n",
       "      <td>True</td>\n",
       "      <td>0.997146</td>\n",
       "    </tr>\n",
       "    <tr>\n",
       "      <th>9</th>\n",
       "      <td>Bombay</td>\n",
       "      <td>d79189cb-3f16-41d0-89d5-2881b22813b4.jpg</td>\n",
       "      <td>[(cat, 1.0), (Bombay, 1.0)]</td>\n",
       "      <td>True</td>\n",
       "      <td>0.998585</td>\n",
       "    </tr>\n",
       "    <tr>\n",
       "      <th>10</th>\n",
       "      <td>British Shorthair</td>\n",
       "      <td>74c4f46b-0ea0-4a61-b1e9-f8a7a67e0a77.jpg</td>\n",
       "      <td>[(cat, 1.0), (British Shorthair, 0.99)]</td>\n",
       "      <td>True</td>\n",
       "      <td>0.987646</td>\n",
       "    </tr>\n",
       "    <tr>\n",
       "      <th>11</th>\n",
       "      <td>Burmese</td>\n",
       "      <td>395e708e-3fd8-49a9-8cde-cd45837586a5.jpg</td>\n",
       "      <td>[(cat, 1.0), (Birman, 0.77)]</td>\n",
       "      <td>False</td>\n",
       "      <td>0.117471</td>\n",
       "    </tr>\n",
       "    <tr>\n",
       "      <th>12</th>\n",
       "      <td>Chartreux</td>\n",
       "      <td>05c49de2-300f-4dca-a6ea-04eaa16682af.jpg</td>\n",
       "      <td>[(cat, 1.0), (Chartreux, 1.0)]</td>\n",
       "      <td>True</td>\n",
       "      <td>0.999927</td>\n",
       "    </tr>\n",
       "    <tr>\n",
       "      <th>13</th>\n",
       "      <td>Cheetoh</td>\n",
       "      <td>66df1dda-2c32-4ed3-95e3-0035c0de5ebc.jpg</td>\n",
       "      <td>[(cat, 1.0), (Cheetoh, 0.97)]</td>\n",
       "      <td>True</td>\n",
       "      <td>0.965070</td>\n",
       "    </tr>\n",
       "    <tr>\n",
       "      <th>14</th>\n",
       "      <td>Cornish Rex</td>\n",
       "      <td>37da2c81-043c-4f16-827d-1cc3784ad515.jpg</td>\n",
       "      <td>[(cat, 1.0), (Cornish Rex, 1.0)]</td>\n",
       "      <td>True</td>\n",
       "      <td>0.998666</td>\n",
       "    </tr>\n",
       "    <tr>\n",
       "      <th>15</th>\n",
       "      <td>Devon Rex</td>\n",
       "      <td>50fc9b69-d5f5-443d-b0c8-2330808ed6ad.jpg</td>\n",
       "      <td>[(cat, 1.0), (Devon Rex, 1.0)]</td>\n",
       "      <td>True</td>\n",
       "      <td>0.998166</td>\n",
       "    </tr>\n",
       "    <tr>\n",
       "      <th>16</th>\n",
       "      <td>Egyptian Mau</td>\n",
       "      <td>7e3dd4ec-35c8-422b-862c-61a99de91805.jpg</td>\n",
       "      <td>[(cat, 1.0), (Egyptian Mau, 1.0)]</td>\n",
       "      <td>True</td>\n",
       "      <td>0.999900</td>\n",
       "    </tr>\n",
       "    <tr>\n",
       "      <th>17</th>\n",
       "      <td>Exotic Shorthair</td>\n",
       "      <td>70a42b22-17af-4cc4-8d9f-a35c582160f4.jpg</td>\n",
       "      <td>[(cat, 1.0), (Exotic Shorthair, 1.0)]</td>\n",
       "      <td>True</td>\n",
       "      <td>0.996102</td>\n",
       "    </tr>\n",
       "    <tr>\n",
       "      <th>18</th>\n",
       "      <td>Havana Brown</td>\n",
       "      <td>0f953880-c5ec-4b65-a6b9-9785d8f79267.jpg</td>\n",
       "      <td>[(cat, 1.0), (Havana Brown, 1.0)]</td>\n",
       "      <td>True</td>\n",
       "      <td>0.999425</td>\n",
       "    </tr>\n",
       "    <tr>\n",
       "      <th>19</th>\n",
       "      <td>Japanese Bobtail</td>\n",
       "      <td>abb1e656-a77b-4d37-b7d0-261ab6e2ff40.jpg</td>\n",
       "      <td>[(cat, 1.0), (Japanese Bobtail, 0.81)]</td>\n",
       "      <td>True</td>\n",
       "      <td>0.811133</td>\n",
       "    </tr>\n",
       "    <tr>\n",
       "      <th>20</th>\n",
       "      <td>Khao Manee</td>\n",
       "      <td>e9885bbd-fcc3-48cc-a5de-a0ae3f057216.jpg</td>\n",
       "      <td>[(cat, 1.0), (Khao Manee, 1.0)]</td>\n",
       "      <td>True</td>\n",
       "      <td>0.998960</td>\n",
       "    </tr>\n",
       "    <tr>\n",
       "      <th>21</th>\n",
       "      <td>LaPerm</td>\n",
       "      <td>36c3564c-3c31-4e36-b0c9-96034387c0bd.jpg</td>\n",
       "      <td>[(cat, 1.0), (LaPerm, 1.0)]</td>\n",
       "      <td>True</td>\n",
       "      <td>0.998949</td>\n",
       "    </tr>\n",
       "    <tr>\n",
       "      <th>22</th>\n",
       "      <td>Lykoi</td>\n",
       "      <td>2f349841-9848-4f3a-9484-33a717326560.jpg</td>\n",
       "      <td>[(cat, 1.0), (Lykoi, 1.0)]</td>\n",
       "      <td>True</td>\n",
       "      <td>0.999693</td>\n",
       "    </tr>\n",
       "    <tr>\n",
       "      <th>23</th>\n",
       "      <td>Maine Coon</td>\n",
       "      <td>574f9120-f808-4526-aec2-3e837d4830cf.jpg</td>\n",
       "      <td>[(cat, 1.0), (Maine Coon, 1.0)]</td>\n",
       "      <td>True</td>\n",
       "      <td>0.999839</td>\n",
       "    </tr>\n",
       "    <tr>\n",
       "      <th>24</th>\n",
       "      <td>Manx</td>\n",
       "      <td>249be46b-f60f-4ba3-9f87-8cbb061ffdb1.jpg</td>\n",
       "      <td>[(cat, 1.0), (Manx, 1.0)]</td>\n",
       "      <td>True</td>\n",
       "      <td>0.999797</td>\n",
       "    </tr>\n",
       "    <tr>\n",
       "      <th>25</th>\n",
       "      <td>Munchkin</td>\n",
       "      <td>6b02e57a-e9ae-4a43-95e7-b72ff69285bd.jpg</td>\n",
       "      <td>[(cat, 1.0), (Munchkin, 0.99)]</td>\n",
       "      <td>True</td>\n",
       "      <td>0.993461</td>\n",
       "    </tr>\n",
       "    <tr>\n",
       "      <th>26</th>\n",
       "      <td>Norwegian Forest Cat</td>\n",
       "      <td>5376bbca-9f1c-4c44-9cc1-bcbd03845735.jpg</td>\n",
       "      <td>[(cat, 1.0), (Norwegian Forest Cat, 0.99)]</td>\n",
       "      <td>True</td>\n",
       "      <td>0.993466</td>\n",
       "    </tr>\n",
       "    <tr>\n",
       "      <th>27</th>\n",
       "      <td>Ocicat</td>\n",
       "      <td>8908b744-98df-41d0-a3d3-317c2f9b8efb.jpg</td>\n",
       "      <td>[(cat, 1.0), (Ocicat, 1.0)]</td>\n",
       "      <td>True</td>\n",
       "      <td>0.999817</td>\n",
       "    </tr>\n",
       "    <tr>\n",
       "      <th>28</th>\n",
       "      <td>Oriental Shorthair</td>\n",
       "      <td>0dec7100-923d-4e02-b321-5bd4ae2e876f.jpg</td>\n",
       "      <td>[(cat, 1.0), (Oriental Shorthair, 0.99)]</td>\n",
       "      <td>True</td>\n",
       "      <td>0.991636</td>\n",
       "    </tr>\n",
       "    <tr>\n",
       "      <th>29</th>\n",
       "      <td>Persian</td>\n",
       "      <td>a363e96a-9057-45f9-ad81-51f23cd8da6f.jpg</td>\n",
       "      <td>[(cat, 1.0), (Persian, 1.0)]</td>\n",
       "      <td>True</td>\n",
       "      <td>0.999294</td>\n",
       "    </tr>\n",
       "    <tr>\n",
       "      <th>30</th>\n",
       "      <td>Peterbald</td>\n",
       "      <td>a34a37f0-2616-4559-85a8-4a62e9d52f39.jpg</td>\n",
       "      <td>[(cat, 1.0), (Peterbald, 1.0)]</td>\n",
       "      <td>True</td>\n",
       "      <td>0.999515</td>\n",
       "    </tr>\n",
       "    <tr>\n",
       "      <th>31</th>\n",
       "      <td>Ragdoll</td>\n",
       "      <td>41a1f9e1-b0e3-4bc8-8773-30d1f477eeaa.jpg</td>\n",
       "      <td>[(cat, 1.0), (Ragdoll, 0.99)]</td>\n",
       "      <td>True</td>\n",
       "      <td>0.987537</td>\n",
       "    </tr>\n",
       "    <tr>\n",
       "      <th>32</th>\n",
       "      <td>Russian Blue</td>\n",
       "      <td>8ca968e7-646d-4d86-864d-9164c8fffed7.jpg</td>\n",
       "      <td>[(cat, 1.0), (Russian Blue, 0.98)]</td>\n",
       "      <td>True</td>\n",
       "      <td>0.980407</td>\n",
       "    </tr>\n",
       "    <tr>\n",
       "      <th>33</th>\n",
       "      <td>Savannah</td>\n",
       "      <td>78d124b5-d8ea-4461-8154-9eef53f15ef9.jpg</td>\n",
       "      <td>[(cat, 1.0), (Savannah, 1.0)]</td>\n",
       "      <td>True</td>\n",
       "      <td>0.999519</td>\n",
       "    </tr>\n",
       "    <tr>\n",
       "      <th>34</th>\n",
       "      <td>Scottish Fold</td>\n",
       "      <td>19fb58d0-da37-4d74-be58-d02d7dae9923.jpg</td>\n",
       "      <td>[(cat, 1.0), (Scottish Fold, 0.99)]</td>\n",
       "      <td>True</td>\n",
       "      <td>0.994444</td>\n",
       "    </tr>\n",
       "    <tr>\n",
       "      <th>35</th>\n",
       "      <td>Selkirk Rex</td>\n",
       "      <td>0032623c-fa31-4b8a-8a3b-23110948b761.jpg</td>\n",
       "      <td>[(cat, 1.0), (Selkirk Rex, 1.0)]</td>\n",
       "      <td>True</td>\n",
       "      <td>0.999336</td>\n",
       "    </tr>\n",
       "    <tr>\n",
       "      <th>36</th>\n",
       "      <td>Siamese</td>\n",
       "      <td>23ec45f9-11d3-4130-8cf6-5186ea32638b.jpg</td>\n",
       "      <td>[(cat, 1.0), (Siamese, 1.0)]</td>\n",
       "      <td>True</td>\n",
       "      <td>0.997777</td>\n",
       "    </tr>\n",
       "    <tr>\n",
       "      <th>37</th>\n",
       "      <td>Siberian</td>\n",
       "      <td>a2781cd5-d215-4d21-9b9a-7a9408645af2.jpg</td>\n",
       "      <td>[(cat, 1.0), (Siberian, 1.0)]</td>\n",
       "      <td>True</td>\n",
       "      <td>0.998436</td>\n",
       "    </tr>\n",
       "    <tr>\n",
       "      <th>38</th>\n",
       "      <td>Singapura</td>\n",
       "      <td>25aa4f17-126b-407c-9961-a9f9ef0437f2.jpg</td>\n",
       "      <td>[(cat, 1.0), (Singapura, 1.0)]</td>\n",
       "      <td>True</td>\n",
       "      <td>0.999943</td>\n",
       "    </tr>\n",
       "    <tr>\n",
       "      <th>39</th>\n",
       "      <td>Snowshoe</td>\n",
       "      <td>3459f4c0-e794-4009-990c-ec2db1935e80.jpg</td>\n",
       "      <td>[(cat, 1.0), (Snowshoe, 1.0)]</td>\n",
       "      <td>True</td>\n",
       "      <td>0.998935</td>\n",
       "    </tr>\n",
       "    <tr>\n",
       "      <th>40</th>\n",
       "      <td>Somali</td>\n",
       "      <td>435cd93c-3dba-4aee-ae86-b5b37d887de1.jpg</td>\n",
       "      <td>[(cat, 1.0), (Somali, 1.0)]</td>\n",
       "      <td>True</td>\n",
       "      <td>0.999599</td>\n",
       "    </tr>\n",
       "    <tr>\n",
       "      <th>41</th>\n",
       "      <td>Sphynx</td>\n",
       "      <td>1f98b24f-0977-46b8-9801-e3cc124d84ee.jpg</td>\n",
       "      <td>[(cat, 1.0), (Sphynx, 1.0)]</td>\n",
       "      <td>True</td>\n",
       "      <td>0.997402</td>\n",
       "    </tr>\n",
       "    <tr>\n",
       "      <th>42</th>\n",
       "      <td>Tonkinese</td>\n",
       "      <td>f46dbfa4-49c3-4a39-b2e0-bbb8423ee329.jpg</td>\n",
       "      <td>[(cat, 1.0), (Tonkinese, 1.0)]</td>\n",
       "      <td>True</td>\n",
       "      <td>0.998134</td>\n",
       "    </tr>\n",
       "    <tr>\n",
       "      <th>43</th>\n",
       "      <td>Toyger</td>\n",
       "      <td>5ed8cd6e-f957-4264-8861-1a2817ff41ef.jpg</td>\n",
       "      <td>[(cat, 1.0), (Toyger, 1.0)]</td>\n",
       "      <td>True</td>\n",
       "      <td>0.999433</td>\n",
       "    </tr>\n",
       "    <tr>\n",
       "      <th>44</th>\n",
       "      <td>Turkish Angora</td>\n",
       "      <td>2b2c6d5c-042b-4a66-bcde-2a5e16ef2ec6.jpg</td>\n",
       "      <td>[(cat, 1.0), (Turkish Angora, 0.99)]</td>\n",
       "      <td>True</td>\n",
       "      <td>0.993965</td>\n",
       "    </tr>\n",
       "    <tr>\n",
       "      <th>45</th>\n",
       "      <td>Turkish Van</td>\n",
       "      <td>6dd4fe39-5c75-414a-ad2c-3bea7fea3aa2.jpg</td>\n",
       "      <td>[(cat, 1.0), (Turkish Van, 1.0)]</td>\n",
       "      <td>True</td>\n",
       "      <td>0.999782</td>\n",
       "    </tr>\n",
       "  </tbody>\n",
       "</table>\n",
       "</div>"
      ],
      "text/plain": [
       "                  Folder                                     Image  \\\n",
       "0              not-a-pet  dca00877-b54a-44de-8677-fbb56a8ad741.jpg   \n",
       "1             Abyssinian  1aa53f01-8c20-4572-aa0b-c3f28054786f.jpg   \n",
       "2       American Bobtail  b9dae0c8-edc6-4721-a0fc-0a33f184e440.jpg   \n",
       "3          American Curl  0ed3a46f-c3dd-4d73-bb3f-0df235aade3e.jpg   \n",
       "4     American Shorthair  207e2438-20e9-45b1-9e96-6780ae956144.jpg   \n",
       "5      American Wirehair  4a491a35-662c-44ab-a65c-87d2f3d0a9bb.jpg   \n",
       "6               Balinese  4e82fab9-a190-4a8c-939d-e02da6b54ee2.jpg   \n",
       "7                 Bengal  73ebe9dc-ab25-4d97-9cd8-308fc9309c04.jpg   \n",
       "8                 Birman  02aa164b-7c2e-47c7-9d59-bfaa2170ea34.jpg   \n",
       "9                 Bombay  d79189cb-3f16-41d0-89d5-2881b22813b4.jpg   \n",
       "10     British Shorthair  74c4f46b-0ea0-4a61-b1e9-f8a7a67e0a77.jpg   \n",
       "11               Burmese  395e708e-3fd8-49a9-8cde-cd45837586a5.jpg   \n",
       "12             Chartreux  05c49de2-300f-4dca-a6ea-04eaa16682af.jpg   \n",
       "13               Cheetoh  66df1dda-2c32-4ed3-95e3-0035c0de5ebc.jpg   \n",
       "14           Cornish Rex  37da2c81-043c-4f16-827d-1cc3784ad515.jpg   \n",
       "15             Devon Rex  50fc9b69-d5f5-443d-b0c8-2330808ed6ad.jpg   \n",
       "16          Egyptian Mau  7e3dd4ec-35c8-422b-862c-61a99de91805.jpg   \n",
       "17      Exotic Shorthair  70a42b22-17af-4cc4-8d9f-a35c582160f4.jpg   \n",
       "18          Havana Brown  0f953880-c5ec-4b65-a6b9-9785d8f79267.jpg   \n",
       "19      Japanese Bobtail  abb1e656-a77b-4d37-b7d0-261ab6e2ff40.jpg   \n",
       "20            Khao Manee  e9885bbd-fcc3-48cc-a5de-a0ae3f057216.jpg   \n",
       "21                LaPerm  36c3564c-3c31-4e36-b0c9-96034387c0bd.jpg   \n",
       "22                 Lykoi  2f349841-9848-4f3a-9484-33a717326560.jpg   \n",
       "23            Maine Coon  574f9120-f808-4526-aec2-3e837d4830cf.jpg   \n",
       "24                  Manx  249be46b-f60f-4ba3-9f87-8cbb061ffdb1.jpg   \n",
       "25              Munchkin  6b02e57a-e9ae-4a43-95e7-b72ff69285bd.jpg   \n",
       "26  Norwegian Forest Cat  5376bbca-9f1c-4c44-9cc1-bcbd03845735.jpg   \n",
       "27                Ocicat  8908b744-98df-41d0-a3d3-317c2f9b8efb.jpg   \n",
       "28    Oriental Shorthair  0dec7100-923d-4e02-b321-5bd4ae2e876f.jpg   \n",
       "29               Persian  a363e96a-9057-45f9-ad81-51f23cd8da6f.jpg   \n",
       "30             Peterbald  a34a37f0-2616-4559-85a8-4a62e9d52f39.jpg   \n",
       "31               Ragdoll  41a1f9e1-b0e3-4bc8-8773-30d1f477eeaa.jpg   \n",
       "32          Russian Blue  8ca968e7-646d-4d86-864d-9164c8fffed7.jpg   \n",
       "33              Savannah  78d124b5-d8ea-4461-8154-9eef53f15ef9.jpg   \n",
       "34         Scottish Fold  19fb58d0-da37-4d74-be58-d02d7dae9923.jpg   \n",
       "35           Selkirk Rex  0032623c-fa31-4b8a-8a3b-23110948b761.jpg   \n",
       "36               Siamese  23ec45f9-11d3-4130-8cf6-5186ea32638b.jpg   \n",
       "37              Siberian  a2781cd5-d215-4d21-9b9a-7a9408645af2.jpg   \n",
       "38             Singapura  25aa4f17-126b-407c-9961-a9f9ef0437f2.jpg   \n",
       "39              Snowshoe  3459f4c0-e794-4009-990c-ec2db1935e80.jpg   \n",
       "40                Somali  435cd93c-3dba-4aee-ae86-b5b37d887de1.jpg   \n",
       "41                Sphynx  1f98b24f-0977-46b8-9801-e3cc124d84ee.jpg   \n",
       "42             Tonkinese  f46dbfa4-49c3-4a39-b2e0-bbb8423ee329.jpg   \n",
       "43                Toyger  5ed8cd6e-f957-4264-8861-1a2817ff41ef.jpg   \n",
       "44        Turkish Angora  2b2c6d5c-042b-4a66-bcde-2a5e16ef2ec6.jpg   \n",
       "45           Turkish Van  6dd4fe39-5c75-414a-ad2c-3bea7fea3aa2.jpg   \n",
       "\n",
       "                                        Result  Correct  \\\n",
       "0                           [(not-a-pet, 1.0)]     True   \n",
       "1              [(cat, 1.0), (Abyssinian, 1.0)]     True   \n",
       "2        [(cat, 1.0), (American Bobtail, 1.0)]     True   \n",
       "3           [(cat, 1.0), (American Curl, 1.0)]     True   \n",
       "4     [(cat, 1.0), (American Shorthair, 0.98)]     True   \n",
       "5       [(cat, 1.0), (American Wirehair, 1.0)]     True   \n",
       "6                [(cat, 1.0), (Balinese, 1.0)]     True   \n",
       "7                  [(cat, 1.0), (Bengal, 1.0)]     True   \n",
       "8                  [(cat, 1.0), (Birman, 1.0)]     True   \n",
       "9                  [(cat, 1.0), (Bombay, 1.0)]     True   \n",
       "10     [(cat, 1.0), (British Shorthair, 0.99)]     True   \n",
       "11                [(cat, 1.0), (Birman, 0.77)]    False   \n",
       "12              [(cat, 1.0), (Chartreux, 1.0)]     True   \n",
       "13               [(cat, 1.0), (Cheetoh, 0.97)]     True   \n",
       "14            [(cat, 1.0), (Cornish Rex, 1.0)]     True   \n",
       "15              [(cat, 1.0), (Devon Rex, 1.0)]     True   \n",
       "16           [(cat, 1.0), (Egyptian Mau, 1.0)]     True   \n",
       "17       [(cat, 1.0), (Exotic Shorthair, 1.0)]     True   \n",
       "18           [(cat, 1.0), (Havana Brown, 1.0)]     True   \n",
       "19      [(cat, 1.0), (Japanese Bobtail, 0.81)]     True   \n",
       "20             [(cat, 1.0), (Khao Manee, 1.0)]     True   \n",
       "21                 [(cat, 1.0), (LaPerm, 1.0)]     True   \n",
       "22                  [(cat, 1.0), (Lykoi, 1.0)]     True   \n",
       "23             [(cat, 1.0), (Maine Coon, 1.0)]     True   \n",
       "24                   [(cat, 1.0), (Manx, 1.0)]     True   \n",
       "25              [(cat, 1.0), (Munchkin, 0.99)]     True   \n",
       "26  [(cat, 1.0), (Norwegian Forest Cat, 0.99)]     True   \n",
       "27                 [(cat, 1.0), (Ocicat, 1.0)]     True   \n",
       "28    [(cat, 1.0), (Oriental Shorthair, 0.99)]     True   \n",
       "29                [(cat, 1.0), (Persian, 1.0)]     True   \n",
       "30              [(cat, 1.0), (Peterbald, 1.0)]     True   \n",
       "31               [(cat, 1.0), (Ragdoll, 0.99)]     True   \n",
       "32          [(cat, 1.0), (Russian Blue, 0.98)]     True   \n",
       "33               [(cat, 1.0), (Savannah, 1.0)]     True   \n",
       "34         [(cat, 1.0), (Scottish Fold, 0.99)]     True   \n",
       "35            [(cat, 1.0), (Selkirk Rex, 1.0)]     True   \n",
       "36                [(cat, 1.0), (Siamese, 1.0)]     True   \n",
       "37               [(cat, 1.0), (Siberian, 1.0)]     True   \n",
       "38              [(cat, 1.0), (Singapura, 1.0)]     True   \n",
       "39               [(cat, 1.0), (Snowshoe, 1.0)]     True   \n",
       "40                 [(cat, 1.0), (Somali, 1.0)]     True   \n",
       "41                 [(cat, 1.0), (Sphynx, 1.0)]     True   \n",
       "42              [(cat, 1.0), (Tonkinese, 1.0)]     True   \n",
       "43                 [(cat, 1.0), (Toyger, 1.0)]     True   \n",
       "44        [(cat, 1.0), (Turkish Angora, 0.99)]     True   \n",
       "45            [(cat, 1.0), (Turkish Van, 1.0)]     True   \n",
       "\n",
       "    FolderName Probability  \n",
       "0                 0.999989  \n",
       "1                 0.996941  \n",
       "2                 0.998370  \n",
       "3                 0.999170  \n",
       "4                 0.983776  \n",
       "5                 0.999459  \n",
       "6                 0.999243  \n",
       "7                 0.997451  \n",
       "8                 0.997146  \n",
       "9                 0.998585  \n",
       "10                0.987646  \n",
       "11                0.117471  \n",
       "12                0.999927  \n",
       "13                0.965070  \n",
       "14                0.998666  \n",
       "15                0.998166  \n",
       "16                0.999900  \n",
       "17                0.996102  \n",
       "18                0.999425  \n",
       "19                0.811133  \n",
       "20                0.998960  \n",
       "21                0.998949  \n",
       "22                0.999693  \n",
       "23                0.999839  \n",
       "24                0.999797  \n",
       "25                0.993461  \n",
       "26                0.993466  \n",
       "27                0.999817  \n",
       "28                0.991636  \n",
       "29                0.999294  \n",
       "30                0.999515  \n",
       "31                0.987537  \n",
       "32                0.980407  \n",
       "33                0.999519  \n",
       "34                0.994444  \n",
       "35                0.999336  \n",
       "36                0.997777  \n",
       "37                0.998436  \n",
       "38                0.999943  \n",
       "39                0.998935  \n",
       "40                0.999599  \n",
       "41                0.997402  \n",
       "42                0.998134  \n",
       "43                0.999433  \n",
       "44                0.993965  \n",
       "45                0.999782  "
      ]
     },
     "metadata": {},
     "output_type": "display_data"
    }
   ],
   "source": [
    "display_results(perform_validation_on_a_batch(path=Path(\"inputs/processed/train\"), n=1))"
   ]
  },
  {
   "cell_type": "code",
   "execution_count": 190,
   "metadata": {},
   "outputs": [
    {
     "data": {
      "text/html": [],
      "text/plain": [
       "<IPython.core.display.HTML object>"
      ]
     },
     "metadata": {},
     "output_type": "display_data"
    },
    {
     "data": {
      "text/plain": [
       "([('cat', 0.9999994039535522), ('Abyssinian', 0.9970874190330505)],\n",
       " tensor([9.9709e-01, 1.0000e-07, 3.1169e-06, 1.5849e-04, 2.8270e-06, 1.5876e-07,\n",
       "         1.2524e-05, 4.8886e-07, 2.8484e-06, 1.0000e-07, 3.9709e-05, 1.2660e-05,\n",
       "         4.5692e-06, 1.0733e-05, 5.7882e-07, 1.1636e-04, 4.1359e-06, 6.5582e-04,\n",
       "         5.4023e-06, 1.2134e-06, 1.7724e-05, 4.3580e-07, 1.4882e-07, 7.1077e-06,\n",
       "         2.8602e-06, 1.5343e-07, 5.5858e-03, 1.9590e-04, 3.9195e-06, 1.6840e-05,\n",
       "         1.0000e-07, 1.5907e-05, 1.3451e-05, 1.0201e-05, 1.4604e-07, 4.8830e-07,\n",
       "         1.2028e-07, 2.5383e-04, 1.3920e-05, 1.3470e-06, 1.0000e-07, 9.3342e-05,\n",
       "         7.3017e-06, 1.0000e-07, 1.0982e-07, 1.0000e+00, 5.2795e-07]),\n",
       " ['Abyssinian', 'American Bobtail', 'American Curl', 'American Shorthair', 'American Wirehair', 'Balinese', 'Bengal', 'Birman', 'Bombay', 'British Shorthair', 'Burmese', 'Chartreux', 'Cheetoh', 'Cornish Rex', 'Devon Rex', 'Egyptian Mau', 'Exotic Shorthair', 'Havana Brown', 'Japanese Bobtail', 'Khao Manee', 'LaPerm', 'Lykoi', 'Maine Coon', 'Manx', 'Munchkin', 'Norwegian Forest Cat', 'Ocicat', 'Oriental Shorthair', 'Persian', 'Peterbald', 'Ragdoll', 'Russian Blue', 'Savannah', 'Scottish Fold', 'Selkirk Rex', 'Siamese', 'Siberian', 'Singapura', 'Snowshoe', 'Somali', 'Sphynx', 'Tonkinese', 'Toyger', 'Turkish Angora', 'Turkish Van', 'cat', 'not-a-pet'])"
      ]
     },
     "execution_count": 190,
     "metadata": {},
     "output_type": "execute_result"
    },
    {
     "data": {
      "image/png": "[encoded data removed]",
      "text/plain": [
       "<Figure size 500x500 with 1 Axes>"
      ]
     },
     "metadata": {},
     "output_type": "display_data"
    }
   ],
   "source": [
    "# Initial Validation on random image from training set\n",
    "perform_prediction(\"inputs/processed/test/cats/Abyssinian/0a16dc6f-0757-42b2-a88b-5baef4cdc8d6.jpg\")"
   ]
  },
  {
   "cell_type": "code",
   "execution_count": 191,
   "metadata": {},
   "outputs": [
    {
     "data": {
      "text/html": [],
      "text/plain": [
       "<IPython.core.display.HTML object>"
      ]
     },
     "metadata": {},
     "output_type": "display_data"
    },
    {
     "data": {
      "text/plain": [
       "([('not-a-pet', 0.999994158744812)],\n",
       " tensor([1.0000e-07, 1.0000e-07, 1.0000e-07, 1.0000e-07, 2.1801e-07, 1.0000e-07,\n",
       "         1.0000e-07, 1.0000e-07, 1.0000e-07, 1.0000e-07, 1.0000e-07, 1.7886e-07,\n",
       "         1.0000e-07, 1.0000e-07, 1.0000e-07, 1.0000e-07, 1.0000e-07, 1.7830e-07,\n",
       "         1.0000e-07, 1.0000e-07, 1.0000e-07, 1.1752e-07, 1.0000e-07, 1.0000e-07,\n",
       "         1.0000e-07, 1.0000e-07, 4.8350e-07, 1.0000e-07, 1.0000e-07, 1.0000e-07,\n",
       "         1.0000e-07, 1.0000e-07, 1.8793e-07, 1.0000e-07, 1.0000e-07, 1.0000e-07,\n",
       "         2.5083e-06, 1.0000e-07, 1.0000e-07, 1.0000e-07, 4.5438e-07, 1.0000e-07,\n",
       "         1.0000e-07, 1.0000e-07, 1.0000e-07, 6.6426e-06, 9.9999e-01]),\n",
       " ['Abyssinian', 'American Bobtail', 'American Curl', 'American Shorthair', 'American Wirehair', 'Balinese', 'Bengal', 'Birman', 'Bombay', 'British Shorthair', 'Burmese', 'Chartreux', 'Cheetoh', 'Cornish Rex', 'Devon Rex', 'Egyptian Mau', 'Exotic Shorthair', 'Havana Brown', 'Japanese Bobtail', 'Khao Manee', 'LaPerm', 'Lykoi', 'Maine Coon', 'Manx', 'Munchkin', 'Norwegian Forest Cat', 'Ocicat', 'Oriental Shorthair', 'Persian', 'Peterbald', 'Ragdoll', 'Russian Blue', 'Savannah', 'Scottish Fold', 'Selkirk Rex', 'Siamese', 'Siberian', 'Singapura', 'Snowshoe', 'Somali', 'Sphynx', 'Tonkinese', 'Toyger', 'Turkish Angora', 'Turkish Van', 'cat', 'not-a-pet'])"
      ]
     },
     "execution_count": 191,
     "metadata": {},
     "output_type": "execute_result"
    },
    {
     "data": {
      "image/png": "[encoded data removed]",
      "text/plain": [
       "<Figure size 500x500 with 1 Axes>"
      ]
     },
     "metadata": {},
     "output_type": "display_data"
    }
   ],
   "source": [
    "# Initial Validation on random image from training set\n",
    "perform_prediction(\"inputs/processed/test/not-a-pet/0a65b83b-985e-4a2d-9603-3c49377136fb.jpg\")\n"
   ]
  },
  {
   "cell_type": "code",
   "execution_count": 192,
   "metadata": {},
   "outputs": [],
   "source": [
    "# Initial Validation on random image from training set\n",
    "# perform_prediction(\"test\")\n"
   ]
  },
  {
   "cell_type": "code",
   "execution_count": 193,
   "metadata": {},
   "outputs": [
    {
     "name": "stdout",
     "output_type": "stream",
     "text": [
      "Error loading image: [Errno 2] No such file or directory: '/mnt/s/study/fastai_cat_clasifier/test/Abyssinian/05a5a708-5a74-40b3-826c-2cc47b6a50c0.jpg'\n",
      "Error in prediction: cannot access local variable 'img' where it is not associated with a value\n"
     ]
    },
    {
     "ename": "UnboundLocalError",
     "evalue": "cannot access local variable 'probs' where it is not associated with a value",
     "output_type": "error",
     "traceback": [
      "\u001b[0;31m---------------------------------------------------------------------------\u001b[0m",
      "\u001b[0;31mUnboundLocalError\u001b[0m                         Traceback (most recent call last)",
      "Cell \u001b[0;32mIn[193], line 2\u001b[0m\n\u001b[1;32m      1\u001b[0m img_path \u001b[38;5;241m=\u001b[39m Path(\u001b[38;5;124m'\u001b[39m\u001b[38;5;124mtest/Abyssinian/05a5a708-5a74-40b3-826c-2cc47b6a50c0.jpg\u001b[39m\u001b[38;5;124m'\u001b[39m)\n\u001b[0;32m----> 2\u001b[0m \u001b[38;5;28mprint\u001b[39m(perform_prediction(img_path))\n",
      "Cell \u001b[0;32mIn[184], line 20\u001b[0m, in \u001b[0;36mperform_prediction\u001b[0;34m(img_path, show_image, threshold)\u001b[0m\n\u001b[1;32m     17\u001b[0m     \u001b[38;5;28mprint\u001b[39m(\u001b[38;5;124mf\u001b[39m\u001b[38;5;124m\"\u001b[39m\u001b[38;5;124mError in prediction: \u001b[39m\u001b[38;5;132;01m{\u001b[39;00me\u001b[38;5;132;01m}\u001b[39;00m\u001b[38;5;124m\"\u001b[39m)\n\u001b[1;32m     19\u001b[0m \u001b[38;5;66;03m# Get indices of labels that exceed the threshold\u001b[39;00m\n\u001b[0;32m---> 20\u001b[0m predicted_indices \u001b[38;5;241m=\u001b[39m (probs \u001b[38;5;241m>\u001b[39m threshold)\u001b[38;5;241m.\u001b[39mnonzero(as_tuple\u001b[38;5;241m=\u001b[39m\u001b[38;5;28;01mTrue\u001b[39;00m)[\u001b[38;5;241m0\u001b[39m]\n\u001b[1;32m     22\u001b[0m \u001b[38;5;66;03m# Retrieve the corresponding probabilities\u001b[39;00m\n\u001b[1;32m     23\u001b[0m predicted_probs \u001b[38;5;241m=\u001b[39m probs[predicted_indices]\n",
      "\u001b[0;31mUnboundLocalError\u001b[0m: cannot access local variable 'probs' where it is not associated with a value"
     ]
    }
   ],
   "source": [
    "img_path = Path('test/Abyssinian/05a5a708-5a74-40b3-826c-2cc47b6a50c0.jpg')\n",
    "print(perform_prediction(img_path))\n"
   ]
  },
  {
   "cell_type": "code",
   "execution_count": null,
   "metadata": {},
   "outputs": [],
   "source": []
  }
 ],
 "metadata": {
  "kernelspec": {
   "display_name": "work",
   "language": "python",
   "name": "python3"
  },
  "language_info": {
   "codemirror_mode": {
    "name": "ipython",
    "version": 3
   },
   "file_extension": ".py",
   "mimetype": "text/x-python",
   "name": "python",
   "nbconvert_exporter": "python",
   "pygments_lexer": "ipython3",
   "version": "3.11.5"
  }
 },
 "nbformat": 4,
 "nbformat_minor": 2
}
